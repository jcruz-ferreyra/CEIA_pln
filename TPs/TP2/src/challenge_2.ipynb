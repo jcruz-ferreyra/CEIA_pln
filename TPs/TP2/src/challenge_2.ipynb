{
 "cells": [
  {
   "cell_type": "code",
   "execution_count": 36,
   "metadata": {},
   "outputs": [],
   "source": [
    "import multiprocessing\n",
    "import os\n",
    "from pathlib import Path\n",
    "\n",
    "import matplotlib.pyplot as plt\n",
    "import nltk\n",
    "import pandas as pd\n",
    "import seaborn as sns\n",
    "from gensim.models import Word2Vec"
   ]
  },
  {
   "cell_type": "code",
   "execution_count": 28,
   "metadata": {},
   "outputs": [],
   "source": [
    "pd.set_option('display.max_colwidth', None)\n",
    "\n",
    "main_path = Path.cwd() / \"..\"\n",
    "songs_list = os.listdir(main_path / \"data/\")"
   ]
  },
  {
   "cell_type": "markdown",
   "metadata": {},
   "source": [
    "Vamos a utilizar como corpus la letra de las cacniones de Atahualpa Yupanqui, descargadas del sitio web [letras.com](https://www.letras.com/atahualpa-yupanqui/), utilizando la tecnica de web scraping.\n",
    "\n",
    "Como documentos seleccionamos cada uno de los parrafos dentro de las canciones, esto es, estrofas y estribillos. Esto debido a que, por lo general, en las canciones de folclore cada parrafo se encuentra contextualizado en si mismo. Ademas, si tomaramos cada verso como corpus encontrariamos que algunas canciones poseen versos de tan solo algunas palabras."
   ]
  },
  {
   "cell_type": "code",
   "execution_count": null,
   "metadata": {},
   "outputs": [
    {
     "name": "stdout",
     "output_type": "stream",
     "text": [
      "Error: couldn't load Cancion Del Abuelo N 2.txt\n",
      "Error: couldn't load Danza de La Luna.txt\n",
      "Error: couldn't load Danza Santiaguena.txt\n",
      "Error: couldn't load Don Fermin.txt\n",
      "Error: couldn't load El Mal Dormido.txt\n",
      "Error: couldn't load El Rescoldeao.txt\n",
      "Error: couldn't load Estilo Serrano.txt\n",
      "Error: couldn't load Gato Santiagueno.txt\n",
      "Error: couldn't load La Estancia Vieja.txt\n",
      "Error: couldn't load La Humilde.txt\n",
      "Error: couldn't load La Nadita.txt\n",
      "Error: couldn't load Malquistao o Vidala Dolorosa.txt\n",
      "Error: couldn't load Melodia Del Adios y Danza Rustica.txt\n",
      "Error: couldn't load Milonga triste.txt\n",
      "Error: couldn't load Paso de Los Andes.txt\n",
      "Error: couldn't load Vidala.txt\n",
      "Error: couldn't load Zamba Tucumana.txt\n"
     ]
    }
   ],
   "source": [
    "# load the documents.\n",
    "list_dfs = []\n",
    "for song in songs_list:\n",
    "    try:\n",
    "        list_dfs.append(pd.read_csv(main_path / f\"data/{song}\", sep='/n', header=None, engine='python'))\n",
    "    except Exception as e:\n",
    "        print(f\"Error: couldn't load {song}\")\n",
    "\n",
    "df = pd.concat(list_dfs)"
   ]
  },
  {
   "cell_type": "code",
   "execution_count": 21,
   "metadata": {},
   "outputs": [
    {
     "name": "stdout",
     "output_type": "stream",
     "text": [
      "Cantidad de canciones en el corpus: 283\n"
     ]
    }
   ],
   "source": [
    "print(f\"Cantidad de canciones en el corpus: {len(list_dfs)}\")"
   ]
  },
  {
   "cell_type": "code",
   "execution_count": 30,
   "metadata": {},
   "outputs": [
    {
     "data": {
      "text/html": [
       "<div>\n",
       "<style scoped>\n",
       "    .dataframe tbody tr th:only-of-type {\n",
       "        vertical-align: middle;\n",
       "    }\n",
       "\n",
       "    .dataframe tbody tr th {\n",
       "        vertical-align: top;\n",
       "    }\n",
       "\n",
       "    .dataframe thead th {\n",
       "        text-align: right;\n",
       "    }\n",
       "</style>\n",
       "<table border=\"1\" class=\"dataframe\">\n",
       "  <thead>\n",
       "    <tr style=\"text-align: right;\">\n",
       "      <th></th>\n",
       "      <th>0</th>\n",
       "    </tr>\n",
       "  </thead>\n",
       "  <tbody>\n",
       "    <tr>\n",
       "      <th>0</th>\n",
       "      <td>Estaba el Cerro tranquilo Cada cual en su trabajo Cuando llegaron de abajo Tres democratas eternos Emisarios del Gobierno La lengua como badajo</td>\n",
       "    </tr>\n",
       "    <tr>\n",
       "      <th>1</th>\n",
       "      <td>Reunir a la paisanada Traian como mision Para hacer una funcion De asados y de empanadas Y asi tomar posesion De toda gruta pintada</td>\n",
       "    </tr>\n",
       "    <tr>\n",
       "      <th>2</th>\n",
       "      <td>Se busco primeramente La sombra de Arganaras Pero dada la humedad Y del mucho genterio En los talas, junto al rio Se vido mas ampliedad</td>\n",
       "    </tr>\n",
       "    <tr>\n",
       "      <th>3</th>\n",
       "      <td>Para sacar el yuyal Con hachas, palas y picos Trajeron muchos melicos De los tres Departamentos Y a los pobres, al momento Les humeaban los hocicos</td>\n",
       "    </tr>\n",
       "    <tr>\n",
       "      <th>4</th>\n",
       "      <td>Lo que antes fue matorral Quedo mesmo que un salon Regadito y parejon Y medio atras del ramaje Un bano pa'l mujeraje Con forma de corazon</td>\n",
       "    </tr>\n",
       "  </tbody>\n",
       "</table>\n",
       "</div>"
      ],
      "text/plain": [
       "                                                                                                                                                     0\n",
       "0      Estaba el Cerro tranquilo Cada cual en su trabajo Cuando llegaron de abajo Tres democratas eternos Emisarios del Gobierno La lengua como badajo\n",
       "1                  Reunir a la paisanada Traian como mision Para hacer una funcion De asados y de empanadas Y asi tomar posesion De toda gruta pintada\n",
       "2              Se busco primeramente La sombra de Arganaras Pero dada la humedad Y del mucho genterio En los talas, junto al rio Se vido mas ampliedad\n",
       "3  Para sacar el yuyal Con hachas, palas y picos Trajeron muchos melicos De los tres Departamentos Y a los pobres, al momento Les humeaban los hocicos\n",
       "4            Lo que antes fue matorral Quedo mesmo que un salon Regadito y parejon Y medio atras del ramaje Un bano pa'l mujeraje Con forma de corazon"
      ]
     },
     "execution_count": 30,
     "metadata": {},
     "output_type": "execute_result"
    }
   ],
   "source": [
    "# Visualize the first song\n",
    "list_dfs[0].head(5)"
   ]
  },
  {
   "cell_type": "code",
   "execution_count": null,
   "metadata": {},
   "outputs": [
    {
     "name": "stdout",
     "output_type": "stream",
     "text": [
      "Cantidad de documentos en el corpus: 2187\n"
     ]
    }
   ],
   "source": [
    "print(f\"Cantidad de documentos en el corpus: {df.shape[0]}\")"
   ]
  },
  {
   "cell_type": "markdown",
   "metadata": {},
   "source": [
    "#### 1. Preprocesamiento"
   ]
  },
  {
   "cell_type": "code",
   "execution_count": 32,
   "metadata": {},
   "outputs": [],
   "source": [
    "from tensorflow.keras.preprocessing.text import text_to_word_sequence\n",
    "\n",
    "sentence_tokens = []\n",
    "# Recorrer todas las filas y transformar las oraciones\n",
    "# en una secuencia de palabras (esto podría realizarse con NLTK o spaCy también)\n",
    "for _, row in df[:None].iterrows():\n",
    "    sentence_tokens.append(text_to_word_sequence(row[0]))"
   ]
  },
  {
   "cell_type": "code",
   "execution_count": 35,
   "metadata": {},
   "outputs": [
    {
     "data": {
      "text/plain": [
       "['estaba',\n",
       " 'el',\n",
       " 'cerro',\n",
       " 'tranquilo',\n",
       " 'cada',\n",
       " 'cual',\n",
       " 'en',\n",
       " 'su',\n",
       " 'trabajo',\n",
       " 'cuando',\n",
       " 'llegaron',\n",
       " 'de',\n",
       " 'abajo',\n",
       " 'tres',\n",
       " 'democratas',\n",
       " 'eternos',\n",
       " 'emisarios',\n",
       " 'del',\n",
       " 'gobierno',\n",
       " 'la',\n",
       " 'lengua',\n",
       " 'como',\n",
       " 'badajo']"
      ]
     },
     "execution_count": 35,
     "metadata": {},
     "output_type": "execute_result"
    }
   ],
   "source": [
    "# Demos un vistazo\n",
    "sentence_tokens[0]"
   ]
  },
  {
   "cell_type": "code",
   "execution_count": 128,
   "metadata": {},
   "outputs": [],
   "source": [
    "import re\n",
    "\n",
    "# Remove stopwords\n",
    "stopwords_es = nltk.corpus.stopwords.words(\"spanish\")\n",
    "sentence_tokens_nostop = [\n",
    "    [\n",
    "        re.sub(r\"[^a-zA-Z0-9 ]\", \"\", word)\n",
    "        for word in document\n",
    "        if word not in stopwords_es\n",
    "    ]\n",
    "    for document in sentence_tokens\n",
    "]\n",
    "\n",
    "# Remove words with less than 3 letters\n",
    "sentence_tokens_nostop = [\n",
    "    [\n",
    "        word\n",
    "        for word in document\n",
    "        if len(word) >= 3\n",
    "    ]\n",
    "    for document in sentence_tokens_nostop\n",
    "]"
   ]
  },
  {
   "cell_type": "markdown",
   "metadata": {},
   "source": [
    "#### 2. Crear los vectores Word2Vec"
   ]
  },
  {
   "cell_type": "code",
   "execution_count": 129,
   "metadata": {},
   "outputs": [],
   "source": [
    "from gensim.models.callbacks import CallbackAny2Vec\n",
    "# Durante el entrenamiento gensim por defecto no informa el \"loss\" en cada época\n",
    "# Sobrecargamos el callback para poder tener esta información\n",
    "class callback(CallbackAny2Vec):\n",
    "    \"\"\"\n",
    "    Callback to print loss after each epoch\n",
    "    \"\"\"\n",
    "    def __init__(self):\n",
    "        self.epoch = 0\n",
    "\n",
    "    def on_epoch_end(self, model):\n",
    "        loss = model.get_latest_training_loss()\n",
    "        if self.epoch == 0:\n",
    "            print('Loss after epoch {}: {}'.format(self.epoch, loss))\n",
    "        else:\n",
    "            print('Loss after epoch {}: {}'.format(self.epoch, loss- self.loss_previous_step))\n",
    "        self.epoch += 1\n",
    "        self.loss_previous_step = loss"
   ]
  },
  {
   "cell_type": "code",
   "execution_count": 218,
   "metadata": {},
   "outputs": [],
   "source": [
    "# Crearmos el modelo generador de vectores\n",
    "# En este caso utilizaremos la estructura modelo Skipgram\n",
    "w2v_model = Word2Vec(min_count=5,    # frecuencia mínima de palabra para incluirla en el vocabulario\n",
    "                     window=7,       # cant de palabras antes y desp de la predicha\n",
    "                     vector_size=32,       # dimensionalidad de los vectores \n",
    "                     negative=20,    # cantidad de negative samples... 0 es no se usa\n",
    "                     workers=1,      # si tienen más cores pueden cambiar este valor\n",
    "                     sg=1)           # modelo 0:CBOW  1:skipgram"
   ]
  },
  {
   "cell_type": "code",
   "execution_count": 219,
   "metadata": {},
   "outputs": [],
   "source": [
    "# Obtener el vocabulario con los tokens\n",
    "w2v_model.build_vocab(sentence_tokens_nostop)"
   ]
  },
  {
   "cell_type": "code",
   "execution_count": 220,
   "metadata": {},
   "outputs": [
    {
     "name": "stdout",
     "output_type": "stream",
     "text": [
      "Cantidad de docs en el corpus: 2187\n"
     ]
    }
   ],
   "source": [
    "# Cantidad de filas/docs encontradas en el corpus\n",
    "print(\"Cantidad de docs en el corpus:\", w2v_model.corpus_count)"
   ]
  },
  {
   "cell_type": "code",
   "execution_count": 221,
   "metadata": {},
   "outputs": [
    {
     "name": "stdout",
     "output_type": "stream",
     "text": [
      "Cantidad de words distintas en el corpus: 1024\n"
     ]
    }
   ],
   "source": [
    "# Cantidad de words encontradas en el corpus\n",
    "print(\"Cantidad de words distintas en el corpus:\", len(w2v_model.wv.index_to_key))"
   ]
  },
  {
   "cell_type": "markdown",
   "metadata": {},
   "source": [
    "### 3. Entrenar embeddings"
   ]
  },
  {
   "cell_type": "code",
   "execution_count": 222,
   "metadata": {},
   "outputs": [
    {
     "name": "stdout",
     "output_type": "stream",
     "text": [
      "Loss after epoch 0: 399911.15625\n",
      "Loss after epoch 1: 287933.03125\n",
      "Loss after epoch 2: 286025.9375\n",
      "Loss after epoch 3: 257787.75\n",
      "Loss after epoch 4: 246558.75\n",
      "Loss after epoch 5: 242733.5\n",
      "Loss after epoch 6: 237808.875\n",
      "Loss after epoch 7: 223285.0\n",
      "Loss after epoch 8: 205693.25\n",
      "Loss after epoch 9: 200170.0\n",
      "Loss after epoch 10: 198766.25\n",
      "Loss after epoch 11: 196974.75\n",
      "Loss after epoch 12: 195877.75\n",
      "Loss after epoch 13: 192107.25\n",
      "Loss after epoch 14: 190335.75\n",
      "Loss after epoch 15: 190683.5\n",
      "Loss after epoch 16: 188723.25\n",
      "Loss after epoch 17: 188047.25\n",
      "Loss after epoch 18: 179028.5\n",
      "Loss after epoch 19: 174673.5\n",
      "Loss after epoch 20: 173017.0\n",
      "Loss after epoch 21: 175027.5\n",
      "Loss after epoch 22: 173321.5\n",
      "Loss after epoch 23: 173010.0\n",
      "Loss after epoch 24: 171464.5\n",
      "Loss after epoch 25: 172679.0\n",
      "Loss after epoch 26: 173595.5\n",
      "Loss after epoch 27: 171144.5\n",
      "Loss after epoch 28: 171295.5\n",
      "Loss after epoch 29: 171400.0\n",
      "Loss after epoch 30: 169910.5\n",
      "Loss after epoch 31: 170882.0\n",
      "Loss after epoch 32: 171257.5\n",
      "Loss after epoch 33: 170243.0\n",
      "Loss after epoch 34: 170680.5\n",
      "Loss after epoch 35: 169179.5\n",
      "Loss after epoch 36: 167751.0\n",
      "Loss after epoch 37: 169507.5\n",
      "Loss after epoch 38: 169807.5\n",
      "Loss after epoch 39: 168943.5\n",
      "Loss after epoch 40: 169029.5\n",
      "Loss after epoch 41: 169923.5\n",
      "Loss after epoch 42: 167330.5\n",
      "Loss after epoch 43: 158332.0\n",
      "Loss after epoch 44: 158050.0\n",
      "Loss after epoch 45: 158348.0\n",
      "Loss after epoch 46: 158145.0\n",
      "Loss after epoch 47: 158401.0\n",
      "Loss after epoch 48: 157542.0\n",
      "Loss after epoch 49: 157612.0\n",
      "Loss after epoch 50: 158521.0\n",
      "Loss after epoch 51: 156335.0\n",
      "Loss after epoch 52: 157410.0\n",
      "Loss after epoch 53: 156370.0\n",
      "Loss after epoch 54: 157737.0\n",
      "Loss after epoch 55: 156288.0\n",
      "Loss after epoch 56: 157072.0\n",
      "Loss after epoch 57: 154375.0\n",
      "Loss after epoch 58: 156552.0\n",
      "Loss after epoch 59: 156194.0\n",
      "Loss after epoch 60: 155286.0\n",
      "Loss after epoch 61: 156286.0\n",
      "Loss after epoch 62: 156834.0\n",
      "Loss after epoch 63: 155853.0\n",
      "Loss after epoch 64: 156094.0\n",
      "Loss after epoch 65: 156275.0\n",
      "Loss after epoch 66: 155914.0\n",
      "Loss after epoch 67: 155217.0\n",
      "Loss after epoch 68: 154737.0\n",
      "Loss after epoch 69: 156981.0\n",
      "Loss after epoch 70: 156697.0\n",
      "Loss after epoch 71: 156049.0\n",
      "Loss after epoch 72: 154322.0\n",
      "Loss after epoch 73: 156600.0\n",
      "Loss after epoch 74: 155726.0\n",
      "Loss after epoch 75: 157041.0\n",
      "Loss after epoch 76: 155137.0\n",
      "Loss after epoch 77: 155419.0\n",
      "Loss after epoch 78: 154738.0\n",
      "Loss after epoch 79: 156981.0\n",
      "Loss after epoch 80: 155352.0\n",
      "Loss after epoch 81: 154947.0\n",
      "Loss after epoch 82: 153504.0\n",
      "Loss after epoch 83: 155670.0\n",
      "Loss after epoch 84: 154725.0\n",
      "Loss after epoch 85: 155272.0\n",
      "Loss after epoch 86: 154597.0\n",
      "Loss after epoch 87: 154293.0\n",
      "Loss after epoch 88: 155102.0\n",
      "Loss after epoch 89: 156034.0\n",
      "Loss after epoch 90: 154648.0\n",
      "Loss after epoch 91: 153947.0\n",
      "Loss after epoch 92: 154383.0\n",
      "Loss after epoch 93: 154233.0\n",
      "Loss after epoch 94: 154827.0\n",
      "Loss after epoch 95: 155491.0\n",
      "Loss after epoch 96: 151210.0\n",
      "Loss after epoch 97: 143752.0\n",
      "Loss after epoch 98: 143610.0\n",
      "Loss after epoch 99: 142678.0\n"
     ]
    },
    {
     "data": {
      "text/plain": [
       "(1606650, 4642400)"
      ]
     },
     "execution_count": 222,
     "metadata": {},
     "output_type": "execute_result"
    }
   ],
   "source": [
    "# Entrenamos el modelo generador de vectores\n",
    "# Utilizamos nuestro callback\n",
    "w2v_model.train(sentence_tokens,\n",
    "                 total_examples=w2v_model.corpus_count,\n",
    "                 epochs=100,\n",
    "                 compute_loss = True,\n",
    "                 callbacks=[callback()]\n",
    "                 )"
   ]
  },
  {
   "cell_type": "markdown",
   "metadata": {},
   "source": [
    "### 4. Visualizar similaridades"
   ]
  },
  {
   "cell_type": "code",
   "execution_count": 223,
   "metadata": {},
   "outputs": [
    {
     "data": {
      "text/plain": [
       "[('hondura', 0.7071337699890137),\n",
       " ('musico', 0.6913033127784729),\n",
       " ('llamando', 0.6702632904052734),\n",
       " ('violin', 0.6505707502365112),\n",
       " ('campo', 0.6426671743392944),\n",
       " ('tum', 0.6257089376449585),\n",
       " ('cuerdas', 0.624566912651062),\n",
       " ('caja', 0.6136906743049622),\n",
       " ('marca', 0.6087656021118164),\n",
       " ('mama', 0.6067737340927124)]"
      ]
     },
     "execution_count": 223,
     "metadata": {},
     "output_type": "execute_result"
    }
   ],
   "source": [
    "# Palabras que MÁS se relacionan con...:\n",
    "w2v_model.wv.most_similar(positive=[\"bombo\"], topn=10)"
   ]
  },
  {
   "cell_type": "markdown",
   "metadata": {},
   "source": [
    "Observamos que entre las palabras con mayor similaridad hay algunas relacionadas con la musica: \"musico\", \"violin\", \"cuerdas\", \"caja\", y algunas tambien relacionados con acciones a las que se asocia el bombo leguero en las canciones folcloricas: \"llamando\", \"marca\"."
   ]
  },
  {
   "cell_type": "code",
   "execution_count": 224,
   "metadata": {},
   "outputs": [
    {
     "data": {
      "text/plain": [
       "[('solo', 0.7228654623031616),\n",
       " ('tira', 0.7127429246902466),\n",
       " ('montiel', 0.7030181288719177),\n",
       " ('adios', 0.6221621632575989),\n",
       " ('flete', 0.6213982701301575),\n",
       " ('adelante', 0.6156866550445557),\n",
       " ('empieza', 0.6148142218589783),\n",
       " ('paisanos', 0.6043440699577332),\n",
       " ('corral', 0.5963303446769714),\n",
       " ('vale', 0.5917187333106995)]"
      ]
     },
     "execution_count": 224,
     "metadata": {},
     "output_type": "execute_result"
    }
   ],
   "source": [
    "# Palabras que MÁS se relacionan con...:\n",
    "w2v_model.wv.most_similar(positive=[\"caballo\"], topn=10)"
   ]
  },
  {
   "cell_type": "markdown",
   "metadata": {},
   "source": [
    "Observamos que entre las palabras con mayor similaridad se encuentran terminos que contextualizan a la vision del caballo en las canciones de Yupanqui: \"tira el caballo adelante...\" en la cancion \"La Aniera\" es un ejemplo. Observamos que aparece la palabra \"corral\", logicamente relacionada con \"caballo\"."
   ]
  },
  {
   "cell_type": "code",
   "execution_count": 225,
   "metadata": {},
   "outputs": [
    {
     "data": {
      "text/plain": [
       "[('changos', 0.6827086806297302),\n",
       " ('bailando', 0.6682401299476624),\n",
       " ('panuelo', 0.6595569252967834),\n",
       " ('baila', 0.6516932249069214),\n",
       " ('palomitay', 0.6391434669494629),\n",
       " ('perdida', 0.6320529580116272),\n",
       " ('zaratena', 0.6272075772285461),\n",
       " ('pagos', 0.626753568649292),\n",
       " ('travieso', 0.6256049275398254),\n",
       " ('lujan', 0.6255539655685425)]"
      ]
     },
     "execution_count": 225,
     "metadata": {},
     "output_type": "execute_result"
    }
   ],
   "source": [
    "# Palabras que MÁS se relacionan con...:\n",
    "w2v_model.wv.most_similar(positive=[\"zamba\"], topn=10)"
   ]
  },
  {
   "cell_type": "markdown",
   "metadata": {},
   "source": [
    "Observamos que la palabra \"zamba\" se encuentra muy referenciada en cuanto al baile en las canciones de Yupanqui: \"bailando\", \"panuelo\", \"baila\" aparecen entre las 4 mas similares."
   ]
  },
  {
   "cell_type": "code",
   "execution_count": 226,
   "metadata": {},
   "outputs": [
    {
     "data": {
      "text/plain": [
       "[('adentro', 0.7101600766181946),\n",
       " ('pena', 0.6990299224853516),\n",
       " ('canto', 0.6923782229423523),\n",
       " ('luna', 0.6917726993560791),\n",
       " ('guitarra', 0.6693127751350403)]"
      ]
     },
     "execution_count": 226,
     "metadata": {},
     "output_type": "execute_result"
    }
   ],
   "source": [
    "w2v_model.wv.most_similar(positive=[\"noche\"], topn=5)"
   ]
  },
  {
   "cell_type": "code",
   "execution_count": 227,
   "metadata": {},
   "outputs": [
    {
     "data": {
      "text/plain": [
       "[('lalma', 0.11442771553993225),\n",
       " ('zaino', 0.001967464806511998),\n",
       " ('india', -0.028786981478333473),\n",
       " ('padir', -0.048010725528001785),\n",
       " ('saco', -0.05696024000644684)]"
      ]
     },
     "execution_count": 227,
     "metadata": {},
     "output_type": "execute_result"
    }
   ],
   "source": [
    "# Palabras que MÁS se relacionan con...:\n",
    "w2v_model.wv.most_similar(negative=[\"noche\"], topn=5)"
   ]
  },
  {
   "cell_type": "markdown",
   "metadata": {},
   "source": [
    "Observamos la diferencia que hay entre las palabras mas cercanas a noche y las mas lejanas utilizando la similaridad coseno. Entre las mas cecanas encontramos a \"luna\", \"canto\", \"pena\" y \"guitarra\", ademas encontramos \"adentro\", palabra que suele ir junto a \"noche\" en las canciones de Yupanqui. Por otro lado, \"lalma\" (el alma), \"zaino\", \"saco\" se encuentran entre las mas disimiles."
   ]
  },
  {
   "cell_type": "markdown",
   "metadata": {},
   "source": [
    "Es importante considerar que, debido a la eleccion de una ventana de 7 palabras, el algoritmo va a tender a conectar palabras que suelen aparecer juntas en las canciones. Esto debido a que al aparecer juntas comparten vecinos."
   ]
  },
  {
   "cell_type": "markdown",
   "metadata": {},
   "source": [
    "#### 5. Buscar asociaciones"
   ]
  },
  {
   "cell_type": "code",
   "execution_count": 270,
   "metadata": {},
   "outputs": [
    {
     "data": {
      "text/plain": [
       "[('alto', 0.7003306746482849),\n",
       " ('viento', 0.6940330266952515),\n",
       " ('pena', 0.6855090856552124),\n",
       " ('preciso', 0.6759711503982544),\n",
       " ('aquel', 0.6291369795799255)]"
      ]
     },
     "execution_count": 270,
     "metadata": {},
     "output_type": "execute_result"
    }
   ],
   "source": [
    "w2v_model.wv.most_similar(positive=[\"lejos\"], topn=5)"
   ]
  },
  {
   "cell_type": "code",
   "execution_count": 268,
   "metadata": {},
   "outputs": [],
   "source": [
    "words = [\"rancho\", \"cerca\", \"lejos\"]\n",
    "\n",
    "vector_1 = w2v_model.wv.get_vector(words[0])\n",
    "vector_2 = w2v_model.wv.get_vector(words[1])\n",
    "vector_3 = w2v_model.wv.get_vector(words[2])\n",
    "\n",
    "new_word = vector_1 - vector_2 + vector_3"
   ]
  },
  {
   "cell_type": "code",
   "execution_count": 269,
   "metadata": {},
   "outputs": [
    {
     "name": "stdout",
     "output_type": "stream",
     "text": [
      "lejos: 0.6415697336196899\n",
      "espina: 0.6338721513748169\n",
      "adios: 0.6307780742645264\n",
      "feliz: 0.624732494354248\n",
      "algun: 0.6065328121185303\n",
      "tucumana: 0.592726469039917\n",
      "sendas: 0.5728856325149536\n",
      "ninguno: 0.5714237689971924\n",
      "pago: 0.5707380771636963\n",
      "noche: 0.5678344964981079\n"
     ]
    }
   ],
   "source": [
    "import numpy as np\n",
    "from sklearn.metrics.pairwise import cosine_similarity\n",
    "\n",
    "# Extract all word embeddings and corresponding words in the model\n",
    "words_w2v = list(w2v_model.wv.index_to_key)  # List of words in the Word2Vec vocabulary\n",
    "embeddings_w2v = np.array([w2v_model.wv[word] for word in words_w2v])  # Convert embeddings to numpy array\n",
    "\n",
    "# Calculate cosine similarity between new_word_vector and all other embeddings\n",
    "similarities = np.squeeze(cosine_similarity(embeddings_w2v, [new_word]))\n",
    "\n",
    "# Sort and get the top 10 most similar words\n",
    "args_sorted = np.argsort(similarities)[::-1][:10]\n",
    "for arg in args_sorted:\n",
    "    print(f'{words_w2v[arg]}: {similarities[arg]}')"
   ]
  },
  {
   "cell_type": "markdown",
   "metadata": {},
   "source": [
    "La busqueda de asociaciones no permite demasiada flexibilidad, pero eso se debe probablemente al reducido tamanio de nuestro corpus.\n",
    "\n",
    "Podemos observar que al restar el vector correspondiente a \"cerca\" de la palabra \"rancho\", y sumar la palabra \"lejos\" al resultado, obtenemos palabras como \"espina\", \"adios\", \"sendas\" a las que podemos llegar a asociar al sentimiento de estar lejos de casa. Sin embargo no podemos estar seguros si esa asociacion es causal o no."
   ]
  },
  {
   "cell_type": "markdown",
   "metadata": {},
   "source": [
    "#### Visualizar vectores"
   ]
  },
  {
   "cell_type": "code",
   "execution_count": 278,
   "metadata": {},
   "outputs": [],
   "source": [
    "from sklearn.decomposition import IncrementalPCA    \n",
    "from sklearn.manifold import TSNE                   \n",
    "import numpy as np                                  \n",
    "\n",
    "def reduce_dimensions(model, num_dimensions = 2 ):\n",
    "     \n",
    "    vectors = np.asarray(model.wv.vectors)\n",
    "    labels = np.asarray(model.wv.index_to_key)  \n",
    "\n",
    "    tsne = TSNE(n_components=num_dimensions, random_state=0)\n",
    "    vectors = tsne.fit_transform(vectors)\n",
    "\n",
    "    return vectors, labels"
   ]
  },
  {
   "cell_type": "code",
   "execution_count": 279,
   "metadata": {},
   "outputs": [
    {
     "data": {
      "application/vnd.plotly.v1+json": {
       "config": {
        "plotlyServerURL": "https://plot.ly"
       },
       "data": [
        {
         "hovertemplate": "x=%{x}<br>y=%{y}<br>text=%{text}<extra></extra>",
         "legendgroup": "",
         "marker": {
          "color": "#636efa",
          "symbol": "circle"
         },
         "mode": "markers+text",
         "name": "",
         "orientation": "v",
         "showlegend": false,
         "text": [
          "mas",
          "vida",
          "canto",
          "camino",
          "corazon",
          "tierra",
          "voy",
          "noche",
          "guitarra",
          "luna",
          "nunca",
          "siempre",
          "solo",
          "vez",
          "sol",
          "penas",
          "viento",
          "pena",
          "hombre",
          "sabe",
          "caminos",
          "zamba",
          "pobre",
          "rio",
          "ser",
          "sombra",
          "caballo",
          "alma",
          "campo",
          "mundo",
          "pal",
          "dia",
          "asi",
          "tal",
          "cantar",
          "volver",
          "destino",
          "alla",
          "quiero",
          "copla",
          "adios",
          "cosas",
          "amor",
          "pago",
          "soledad",
          "voz",
          "tambien",
          "cerro",
          "cancion",
          "monte",
          "silencio",
          "adentro",
          "lejos",
          "largo",
          "pampa",
          "ahi",
          "bien",
          "van",
          "flor",
          "aire",
          "piedra",
          "buscando",
          "veces",
          "cantando",
          "luz",
          "dos",
          "rancho",
          "piedras",
          "dios",
          "ande",
          "cerros",
          "cielo",
          "chacarera",
          "paisano",
          "triste",
          "hace",
          "aquel",
          "andar",
          "mientras",
          "aunque",
          "sueno",
          "ojos",
          "tiempo",
          "bajo",
          "hei",
          "toda",
          "pasa",
          "cada",
          "lindo",
          "vivir",
          "vengo",
          "tiempos",
          "esperanza",
          "despues",
          "cosa",
          "mejor",
          "huella",
          "suenos",
          "canta",
          "tucuman",
          "mirar",
          "recuerdo",
          "aqui",
          "campos",
          "algun",
          "paso",
          "tan",
          "igual",
          "pasar",
          "manana",
          "senor",
          "arbol",
          "olvido",
          "vientos",
          "hoy",
          "tarde",
          "medio",
          "anda",
          "arriba",
          "estan",
          "dice",
          "coplas",
          "sera",
          "montes",
          "plata",
          "dicen",
          "mal",
          "vino",
          "queda",
          "senda",
          "ver",
          "pensar",
          "vidala",
          "llorar",
          "chango",
          "que",
          "agua",
          "mano",
          "mesmo",
          "vuelve",
          "manos",
          "poncho",
          "nombre",
          "hombres",
          "cantor",
          "rumbo",
          "larga",
          "norte",
          "negro",
          "dentro",
          "arena",
          "nadie",
          "quedo",
          "puede",
          "minero",
          "mar",
          "viejo",
          "junto",
          "nino",
          "gente",
          "visto",
          "siento",
          "mismo",
          "quiere",
          "viene",
          "valle",
          "alli",
          "indio",
          "trabajo",
          "naides",
          "buena",
          "loma",
          "llevo",
          "pase",
          "fuerte",
          "anos",
          "estrella",
          "dolor",
          "linda",
          "vidita",
          "sola",
          "estrellas",
          "pecho",
          "buen",
          "sangre",
          "andando",
          "querer",
          "duerme",
          "lao",
          "sur",
          "noches",
          "consuelo",
          "gaucho",
          "yendo",
          "llama",
          "canaveral",
          "perdido",
          "yuyos",
          "amigo",
          "selva"
         ],
         "type": "scatter",
         "x": [
          1.1924209594726562,
          0.8831415176391602,
          0.37203603982925415,
          -1.4950788021087646,
          0.09314783662557602,
          -1.0894910097122192,
          3.1324501037597656,
          -0.5242102146148682,
          -0.18264026939868927,
          -0.05560899153351784,
          -0.6069221496582031,
          1.0701940059661865,
          1.1148866415023804,
          -4.356674671173096,
          -2.6643033027648926,
          2.106717348098755,
          -5.485971450805664,
          -1.106255292892456,
          1.509671926498413,
          2.437608242034912,
          -0.299503356218338,
          -2.338045120239258,
          2.961909294128418,
          0.6066133379936218,
          1.261596918106079,
          -1.3033255338668823,
          -0.048608049750328064,
          -1.424289345741272,
          -0.7140588164329529,
          1.160372018814087,
          5.752050399780273,
          5.538145542144775,
          0.6633800864219666,
          -4.360620498657227,
          0.6939517259597778,
          4.6020941734313965,
          1.103328824043274,
          -2.25711989402771,
          2.5201942920684814,
          3.5347342491149902,
          -1.0912245512008667,
          1.916957139968872,
          -2.47377610206604,
          -4.042881965637207,
          -1.6821545362472534,
          -0.6256246566772461,
          3.6270830631256104,
          -1.5677181482315063,
          -5.323817253112793,
          1.55150306224823,
          0.13953045010566711,
          -1.096846103668213,
          -0.8576143383979797,
          1.2200257778167725,
          -1.918846845626831,
          10.898473739624023,
          2.1693906784057617,
          1.9419091939926147,
          -7.45546293258667,
          -5.054340362548828,
          -6.763377666473389,
          -1.7260491847991943,
          2.027909517288208,
          4.313868045806885,
          -1.62171471118927,
          2.43404483795166,
          -3.0655386447906494,
          0.4178144633769989,
          -3.636040687561035,
          9.917431831359863,
          14.85450553894043,
          -2.8240604400634766,
          4.168198585510254,
          0.31861668825149536,
          0.8845625519752502,
          3.4758925437927246,
          -0.7391474843025208,
          6.731240272521973,
          -2.1345407962799072,
          1.8884917497634888,
          0.7562341690063477,
          3.3663394451141357,
          -6.2498016357421875,
          -4.866053581237793,
          14.030200958251953,
          -0.6017132997512817,
          4.325148105621338,
          3.631920099258423,
          1.3070191144943237,
          1.6924633979797363,
          -9.952057838439941,
          22.511056900024414,
          -3.588096857070923,
          3.8458590507507324,
          -15.460213661193848,
          -8.963335990905762,
          -1.04300057888031,
          -3.6084630489349365,
          -2.460472583770752,
          -3.766307830810547,
          6.838135242462158,
          -13.584635734558105,
          -5.470183849334717,
          -0.6730185151100159,
          5.6056084632873535,
          -2.2730023860931396,
          10.798357963562012,
          7.761403560638428,
          -1.2162903547286987,
          -2.0041749477386475,
          11.100008964538574,
          0.6273143887519836,
          -3.52034854888916,
          12.374857902526855,
          -2.4128170013427734,
          1.5826904773712158,
          1.8292988538742065,
          9.107254028320312,
          4.48019552230835,
          10.881965637207031,
          10.570060729980469,
          -1.0413042306900024,
          -1.365257978439331,
          8.35441780090332,
          4.490269184112549,
          4.839156150817871,
          -0.8134079575538635,
          -3.5538763999938965,
          2.710660934448242,
          -6.107505798339844,
          5.300392150878906,
          1.9071282148361206,
          -13.027413368225098,
          8.709305763244629,
          -13.105852127075195,
          0.8729248046875,
          -6.630290508270264,
          -2.953622341156006,
          17.374589920043945,
          -8.70161247253418,
          5.876924991607666,
          -2.717076063156128,
          -16.386688232421875,
          2.851728677749634,
          -5.134820461273193,
          7.865607261657715,
          4.1098198890686035,
          -15.232451438903809,
          7.178143501281738,
          0.37210530042648315,
          -8.33774185180664,
          -0.9870782494544983,
          -4.347825050354004,
          2.9218573570251465,
          23.297365188598633,
          -11.837224006652832,
          4.105271339416504,
          -1.7481739521026611,
          -14.546085357666016,
          -18.48263168334961,
          -5.519357204437256,
          -3.1594510078430176,
          -2.2837648391723633,
          2.842954635620117,
          8.376571655273438,
          -7.5566840171813965,
          -9.434006690979004,
          8.383336067199707,
          2.9259209632873535,
          2.4108774662017822,
          1.9547592401504517,
          -18.059144973754883,
          -7.284746170043945,
          13.015296936035156,
          13.068830490112305,
          -1.6532642841339111,
          -9.822449684143066,
          -6.369458198547363,
          -4.168035507202148,
          13.332291603088379,
          -6.7388129234313965,
          -8.492850303649902,
          5.964076995849609,
          8.620059967041016,
          -5.357333660125732,
          -7.321436882019043,
          4.239603042602539,
          -16.38652992248535,
          4.632204055786133,
          -15.215890884399414,
          9.96132755279541,
          4.408751487731934,
          -3.7899789810180664,
          19.299470901489258,
          -3.8504538536071777,
          -16.928815841674805,
          -14.358692169189453,
          -20.226449966430664,
          6.789775371551514,
          -11.834418296813965
         ],
         "xaxis": "x",
         "y": [
          -0.09028688818216324,
          -0.9824873805046082,
          -0.3909374475479126,
          0.5655528903007507,
          -0.8266535997390747,
          -0.7740711569786072,
          -3.034313440322876,
          -0.12621355056762695,
          0.3208773136138916,
          -3.0535941123962402,
          1.0953136682510376,
          -0.3238374590873718,
          -0.29234540462493896,
          4.415124893188477,
          -1.502553939819336,
          -1.5380761623382568,
          -2.8128440380096436,
          2.199659585952759,
          0.3179153501987457,
          -0.5283026099205017,
          -1.0298737287521362,
          -11.201017379760742,
          -1.8628976345062256,
          2.596338987350464,
          -1.0282684564590454,
          -0.7592597007751465,
          -5.245393753051758,
          -0.3554718494415283,
          -2.1388967037200928,
          2.1139190196990967,
          -3.416957139968872,
          -0.3627597987651825,
          -3.860492467880249,
          4.473435401916504,
          1.187487244606018,
          0.24910509586334229,
          -1.7686266899108887,
          2.643517017364502,
          1.0340235233306885,
          4.466248035430908,
          -5.976169109344482,
          1.8602819442749023,
          -0.3125053942203522,
          -8.34427261352539,
          1.411012887954712,
          -0.12609945237636566,
          -1.0860480070114136,
          -5.251925945281982,
          -3.2000625133514404,
          -2.2324583530426025,
          1.4004268646240234,
          0.25395557284355164,
          3.088066339492798,
          23.575868606567383,
          0.18477389216423035,
          -6.710736274719238,
          -3.284550189971924,
          -1.1100918054580688,
          -4.762197017669678,
          0.396957665681839,
          0.6570690870285034,
          -1.7820372581481934,
          12.744812965393066,
          -1.8453760147094727,
          -1.3062901496887207,
          -2.9382925033569336,
          -8.46531867980957,
          3.177546501159668,
          5.994109153747559,
          5.335573196411133,
          -0.01092419121414423,
          5.421782493591309,
          22.47772979736328,
          6.780063152313232,
          -2.9063470363616943,
          0.9907931685447693,
          1.7351702451705933,
          5.760395050048828,
          -1.1038615703582764,
          7.740570545196533,
          4.731680393218994,
          -10.051514625549316,
          9.399383544921875,
          1.2820464372634888,
          11.41917610168457,
          -2.0445728302001953,
          -0.824384331703186,
          5.198607921600342,
          -6.290151119232178,
          5.490331649780273,
          -4.082808017730713,
          4.42772912979126,
          0.6612948179244995,
          2.408078193664551,
          3.616971254348755,
          11.732159614562988,
          1.1083972454071045,
          1.7096409797668457,
          2.0542068481445312,
          -11.764593124389648,
          17.979522705078125,
          14.82016658782959,
          4.665998458862305,
          -1.3901034593582153,
          -0.31231483817100525,
          7.453158378601074,
          -1.71099054813385,
          1.863399624824524,
          4.487863540649414,
          -4.268742084503174,
          -8.397994995117188,
          1.9757522344589233,
          -5.666189670562744,
          -0.47310709953308105,
          -4.495107173919678,
          -2.62148118019104,
          -3.741168975830078,
          7.536479949951172,
          12.26423454284668,
          0.5788144469261169,
          -6.757412910461426,
          -2.7421658039093018,
          11.175150871276855,
          -15.92169189453125,
          -15.188582420349121,
          -2.6726646423339844,
          6.248075008392334,
          -3.024434804916382,
          0.11040522903203964,
          24.48825454711914,
          -9.884610176086426,
          2.34126877784729,
          -2.964273691177368,
          13.338968276977539,
          -4.96182107925415,
          -0.13015326857566833,
          -0.8252213597297668,
          -2.7974138259887695,
          -10.836457252502441,
          -6.458590507507324,
          -6.2817463874816895,
          -7.133519172668457,
          0.45812687277793884,
          11.1624174118042,
          -3.846860647201538,
          -2.715010166168213,
          6.940395832061768,
          -10.654974937438965,
          -4.683854103088379,
          0.425165057182312,
          2.8950376510620117,
          6.327207088470459,
          -7.985947608947754,
          1.5320073366165161,
          4.9822306632995605,
          -0.19823205471038818,
          -4.0020928382873535,
          -2.406668186187744,
          0.3953193426132202,
          0.45329412817955017,
          5.626825332641602,
          3.0456583499908447,
          7.367391109466553,
          -4.355510711669922,
          -4.70593786239624,
          -4.346099853515625,
          -11.917202949523926,
          0.30987584590911865,
          -5.678383827209473,
          9.539728164672852,
          -5.985218048095703,
          15.916057586669922,
          -6.80810546875,
          8.137009620666504,
          19.084186553955078,
          4.860447406768799,
          6.52022123336792,
          -5.020097732543945,
          -14.188263893127441,
          -9.784127235412598,
          16.78340721130371,
          6.968667030334473,
          -1.6531953811645508,
          -11.019906997680664,
          -1.5815751552581787,
          13.64260196685791,
          0.1559680551290512,
          -2.4368810653686523,
          -4.051577568054199,
          -10.679540634155273,
          -14.82021713256836,
          3.2697393894195557,
          -9.758463859558105,
          4.579864978790283,
          -1.3299249410629272,
          6.913270473480225,
          7.108569145202637,
          -8.681818962097168,
          -0.467275470495224,
          0.1105111837387085
         ],
         "yaxis": "y"
        }
       ],
       "layout": {
        "legend": {
         "tracegroupgap": 0
        },
        "margin": {
         "t": 60
        },
        "template": {
         "data": {
          "bar": [
           {
            "error_x": {
             "color": "#2a3f5f"
            },
            "error_y": {
             "color": "#2a3f5f"
            },
            "marker": {
             "line": {
              "color": "#E5ECF6",
              "width": 0.5
             },
             "pattern": {
              "fillmode": "overlay",
              "size": 10,
              "solidity": 0.2
             }
            },
            "type": "bar"
           }
          ],
          "barpolar": [
           {
            "marker": {
             "line": {
              "color": "#E5ECF6",
              "width": 0.5
             },
             "pattern": {
              "fillmode": "overlay",
              "size": 10,
              "solidity": 0.2
             }
            },
            "type": "barpolar"
           }
          ],
          "carpet": [
           {
            "aaxis": {
             "endlinecolor": "#2a3f5f",
             "gridcolor": "white",
             "linecolor": "white",
             "minorgridcolor": "white",
             "startlinecolor": "#2a3f5f"
            },
            "baxis": {
             "endlinecolor": "#2a3f5f",
             "gridcolor": "white",
             "linecolor": "white",
             "minorgridcolor": "white",
             "startlinecolor": "#2a3f5f"
            },
            "type": "carpet"
           }
          ],
          "choropleth": [
           {
            "colorbar": {
             "outlinewidth": 0,
             "ticks": ""
            },
            "type": "choropleth"
           }
          ],
          "contour": [
           {
            "colorbar": {
             "outlinewidth": 0,
             "ticks": ""
            },
            "colorscale": [
             [
              0,
              "#0d0887"
             ],
             [
              0.1111111111111111,
              "#46039f"
             ],
             [
              0.2222222222222222,
              "#7201a8"
             ],
             [
              0.3333333333333333,
              "#9c179e"
             ],
             [
              0.4444444444444444,
              "#bd3786"
             ],
             [
              0.5555555555555556,
              "#d8576b"
             ],
             [
              0.6666666666666666,
              "#ed7953"
             ],
             [
              0.7777777777777778,
              "#fb9f3a"
             ],
             [
              0.8888888888888888,
              "#fdca26"
             ],
             [
              1,
              "#f0f921"
             ]
            ],
            "type": "contour"
           }
          ],
          "contourcarpet": [
           {
            "colorbar": {
             "outlinewidth": 0,
             "ticks": ""
            },
            "type": "contourcarpet"
           }
          ],
          "heatmap": [
           {
            "colorbar": {
             "outlinewidth": 0,
             "ticks": ""
            },
            "colorscale": [
             [
              0,
              "#0d0887"
             ],
             [
              0.1111111111111111,
              "#46039f"
             ],
             [
              0.2222222222222222,
              "#7201a8"
             ],
             [
              0.3333333333333333,
              "#9c179e"
             ],
             [
              0.4444444444444444,
              "#bd3786"
             ],
             [
              0.5555555555555556,
              "#d8576b"
             ],
             [
              0.6666666666666666,
              "#ed7953"
             ],
             [
              0.7777777777777778,
              "#fb9f3a"
             ],
             [
              0.8888888888888888,
              "#fdca26"
             ],
             [
              1,
              "#f0f921"
             ]
            ],
            "type": "heatmap"
           }
          ],
          "heatmapgl": [
           {
            "colorbar": {
             "outlinewidth": 0,
             "ticks": ""
            },
            "colorscale": [
             [
              0,
              "#0d0887"
             ],
             [
              0.1111111111111111,
              "#46039f"
             ],
             [
              0.2222222222222222,
              "#7201a8"
             ],
             [
              0.3333333333333333,
              "#9c179e"
             ],
             [
              0.4444444444444444,
              "#bd3786"
             ],
             [
              0.5555555555555556,
              "#d8576b"
             ],
             [
              0.6666666666666666,
              "#ed7953"
             ],
             [
              0.7777777777777778,
              "#fb9f3a"
             ],
             [
              0.8888888888888888,
              "#fdca26"
             ],
             [
              1,
              "#f0f921"
             ]
            ],
            "type": "heatmapgl"
           }
          ],
          "histogram": [
           {
            "marker": {
             "pattern": {
              "fillmode": "overlay",
              "size": 10,
              "solidity": 0.2
             }
            },
            "type": "histogram"
           }
          ],
          "histogram2d": [
           {
            "colorbar": {
             "outlinewidth": 0,
             "ticks": ""
            },
            "colorscale": [
             [
              0,
              "#0d0887"
             ],
             [
              0.1111111111111111,
              "#46039f"
             ],
             [
              0.2222222222222222,
              "#7201a8"
             ],
             [
              0.3333333333333333,
              "#9c179e"
             ],
             [
              0.4444444444444444,
              "#bd3786"
             ],
             [
              0.5555555555555556,
              "#d8576b"
             ],
             [
              0.6666666666666666,
              "#ed7953"
             ],
             [
              0.7777777777777778,
              "#fb9f3a"
             ],
             [
              0.8888888888888888,
              "#fdca26"
             ],
             [
              1,
              "#f0f921"
             ]
            ],
            "type": "histogram2d"
           }
          ],
          "histogram2dcontour": [
           {
            "colorbar": {
             "outlinewidth": 0,
             "ticks": ""
            },
            "colorscale": [
             [
              0,
              "#0d0887"
             ],
             [
              0.1111111111111111,
              "#46039f"
             ],
             [
              0.2222222222222222,
              "#7201a8"
             ],
             [
              0.3333333333333333,
              "#9c179e"
             ],
             [
              0.4444444444444444,
              "#bd3786"
             ],
             [
              0.5555555555555556,
              "#d8576b"
             ],
             [
              0.6666666666666666,
              "#ed7953"
             ],
             [
              0.7777777777777778,
              "#fb9f3a"
             ],
             [
              0.8888888888888888,
              "#fdca26"
             ],
             [
              1,
              "#f0f921"
             ]
            ],
            "type": "histogram2dcontour"
           }
          ],
          "mesh3d": [
           {
            "colorbar": {
             "outlinewidth": 0,
             "ticks": ""
            },
            "type": "mesh3d"
           }
          ],
          "parcoords": [
           {
            "line": {
             "colorbar": {
              "outlinewidth": 0,
              "ticks": ""
             }
            },
            "type": "parcoords"
           }
          ],
          "pie": [
           {
            "automargin": true,
            "type": "pie"
           }
          ],
          "scatter": [
           {
            "fillpattern": {
             "fillmode": "overlay",
             "size": 10,
             "solidity": 0.2
            },
            "type": "scatter"
           }
          ],
          "scatter3d": [
           {
            "line": {
             "colorbar": {
              "outlinewidth": 0,
              "ticks": ""
             }
            },
            "marker": {
             "colorbar": {
              "outlinewidth": 0,
              "ticks": ""
             }
            },
            "type": "scatter3d"
           }
          ],
          "scattercarpet": [
           {
            "marker": {
             "colorbar": {
              "outlinewidth": 0,
              "ticks": ""
             }
            },
            "type": "scattercarpet"
           }
          ],
          "scattergeo": [
           {
            "marker": {
             "colorbar": {
              "outlinewidth": 0,
              "ticks": ""
             }
            },
            "type": "scattergeo"
           }
          ],
          "scattergl": [
           {
            "marker": {
             "colorbar": {
              "outlinewidth": 0,
              "ticks": ""
             }
            },
            "type": "scattergl"
           }
          ],
          "scattermapbox": [
           {
            "marker": {
             "colorbar": {
              "outlinewidth": 0,
              "ticks": ""
             }
            },
            "type": "scattermapbox"
           }
          ],
          "scatterpolar": [
           {
            "marker": {
             "colorbar": {
              "outlinewidth": 0,
              "ticks": ""
             }
            },
            "type": "scatterpolar"
           }
          ],
          "scatterpolargl": [
           {
            "marker": {
             "colorbar": {
              "outlinewidth": 0,
              "ticks": ""
             }
            },
            "type": "scatterpolargl"
           }
          ],
          "scatterternary": [
           {
            "marker": {
             "colorbar": {
              "outlinewidth": 0,
              "ticks": ""
             }
            },
            "type": "scatterternary"
           }
          ],
          "surface": [
           {
            "colorbar": {
             "outlinewidth": 0,
             "ticks": ""
            },
            "colorscale": [
             [
              0,
              "#0d0887"
             ],
             [
              0.1111111111111111,
              "#46039f"
             ],
             [
              0.2222222222222222,
              "#7201a8"
             ],
             [
              0.3333333333333333,
              "#9c179e"
             ],
             [
              0.4444444444444444,
              "#bd3786"
             ],
             [
              0.5555555555555556,
              "#d8576b"
             ],
             [
              0.6666666666666666,
              "#ed7953"
             ],
             [
              0.7777777777777778,
              "#fb9f3a"
             ],
             [
              0.8888888888888888,
              "#fdca26"
             ],
             [
              1,
              "#f0f921"
             ]
            ],
            "type": "surface"
           }
          ],
          "table": [
           {
            "cells": {
             "fill": {
              "color": "#EBF0F8"
             },
             "line": {
              "color": "white"
             }
            },
            "header": {
             "fill": {
              "color": "#C8D4E3"
             },
             "line": {
              "color": "white"
             }
            },
            "type": "table"
           }
          ]
         },
         "layout": {
          "annotationdefaults": {
           "arrowcolor": "#2a3f5f",
           "arrowhead": 0,
           "arrowwidth": 1
          },
          "autotypenumbers": "strict",
          "coloraxis": {
           "colorbar": {
            "outlinewidth": 0,
            "ticks": ""
           }
          },
          "colorscale": {
           "diverging": [
            [
             0,
             "#8e0152"
            ],
            [
             0.1,
             "#c51b7d"
            ],
            [
             0.2,
             "#de77ae"
            ],
            [
             0.3,
             "#f1b6da"
            ],
            [
             0.4,
             "#fde0ef"
            ],
            [
             0.5,
             "#f7f7f7"
            ],
            [
             0.6,
             "#e6f5d0"
            ],
            [
             0.7,
             "#b8e186"
            ],
            [
             0.8,
             "#7fbc41"
            ],
            [
             0.9,
             "#4d9221"
            ],
            [
             1,
             "#276419"
            ]
           ],
           "sequential": [
            [
             0,
             "#0d0887"
            ],
            [
             0.1111111111111111,
             "#46039f"
            ],
            [
             0.2222222222222222,
             "#7201a8"
            ],
            [
             0.3333333333333333,
             "#9c179e"
            ],
            [
             0.4444444444444444,
             "#bd3786"
            ],
            [
             0.5555555555555556,
             "#d8576b"
            ],
            [
             0.6666666666666666,
             "#ed7953"
            ],
            [
             0.7777777777777778,
             "#fb9f3a"
            ],
            [
             0.8888888888888888,
             "#fdca26"
            ],
            [
             1,
             "#f0f921"
            ]
           ],
           "sequentialminus": [
            [
             0,
             "#0d0887"
            ],
            [
             0.1111111111111111,
             "#46039f"
            ],
            [
             0.2222222222222222,
             "#7201a8"
            ],
            [
             0.3333333333333333,
             "#9c179e"
            ],
            [
             0.4444444444444444,
             "#bd3786"
            ],
            [
             0.5555555555555556,
             "#d8576b"
            ],
            [
             0.6666666666666666,
             "#ed7953"
            ],
            [
             0.7777777777777778,
             "#fb9f3a"
            ],
            [
             0.8888888888888888,
             "#fdca26"
            ],
            [
             1,
             "#f0f921"
            ]
           ]
          },
          "colorway": [
           "#636efa",
           "#EF553B",
           "#00cc96",
           "#ab63fa",
           "#FFA15A",
           "#19d3f3",
           "#FF6692",
           "#B6E880",
           "#FF97FF",
           "#FECB52"
          ],
          "font": {
           "color": "#2a3f5f"
          },
          "geo": {
           "bgcolor": "white",
           "lakecolor": "white",
           "landcolor": "#E5ECF6",
           "showlakes": true,
           "showland": true,
           "subunitcolor": "white"
          },
          "hoverlabel": {
           "align": "left"
          },
          "hovermode": "closest",
          "mapbox": {
           "style": "light"
          },
          "paper_bgcolor": "white",
          "plot_bgcolor": "#E5ECF6",
          "polar": {
           "angularaxis": {
            "gridcolor": "white",
            "linecolor": "white",
            "ticks": ""
           },
           "bgcolor": "#E5ECF6",
           "radialaxis": {
            "gridcolor": "white",
            "linecolor": "white",
            "ticks": ""
           }
          },
          "scene": {
           "xaxis": {
            "backgroundcolor": "#E5ECF6",
            "gridcolor": "white",
            "gridwidth": 2,
            "linecolor": "white",
            "showbackground": true,
            "ticks": "",
            "zerolinecolor": "white"
           },
           "yaxis": {
            "backgroundcolor": "#E5ECF6",
            "gridcolor": "white",
            "gridwidth": 2,
            "linecolor": "white",
            "showbackground": true,
            "ticks": "",
            "zerolinecolor": "white"
           },
           "zaxis": {
            "backgroundcolor": "#E5ECF6",
            "gridcolor": "white",
            "gridwidth": 2,
            "linecolor": "white",
            "showbackground": true,
            "ticks": "",
            "zerolinecolor": "white"
           }
          },
          "shapedefaults": {
           "line": {
            "color": "#2a3f5f"
           }
          },
          "ternary": {
           "aaxis": {
            "gridcolor": "white",
            "linecolor": "white",
            "ticks": ""
           },
           "baxis": {
            "gridcolor": "white",
            "linecolor": "white",
            "ticks": ""
           },
           "bgcolor": "#E5ECF6",
           "caxis": {
            "gridcolor": "white",
            "linecolor": "white",
            "ticks": ""
           }
          },
          "title": {
           "x": 0.05
          },
          "xaxis": {
           "automargin": true,
           "gridcolor": "white",
           "linecolor": "white",
           "ticks": "",
           "title": {
            "standoff": 15
           },
           "zerolinecolor": "white",
           "zerolinewidth": 2
          },
          "yaxis": {
           "automargin": true,
           "gridcolor": "white",
           "linecolor": "white",
           "ticks": "",
           "title": {
            "standoff": 15
           },
           "zerolinecolor": "white",
           "zerolinewidth": 2
          }
         }
        },
        "xaxis": {
         "anchor": "y",
         "domain": [
          0,
          1
         ],
         "title": {
          "text": "x"
         }
        },
        "yaxis": {
         "anchor": "x",
         "domain": [
          0,
          1
         ],
         "title": {
          "text": "y"
         }
        }
       }
      }
     },
     "metadata": {},
     "output_type": "display_data"
    }
   ],
   "source": [
    "# Graficar los embedddings en 2D\n",
    "import plotly.graph_objects as go\n",
    "import plotly.express as px\n",
    "\n",
    "vecs, labels = reduce_dimensions(w2v_model)\n",
    "\n",
    "MAX_WORDS = 200\n",
    "fig = px.scatter(x=vecs[:MAX_WORDS,0], y=vecs[:MAX_WORDS,1], text=labels[:MAX_WORDS])\n",
    "fig.show() # renderer=\"colab\" esto para plotly en colab"
   ]
  },
  {
   "cell_type": "code",
   "execution_count": 281,
   "metadata": {},
   "outputs": [
    {
     "data": {
      "application/vnd.plotly.v1+json": {
       "config": {
        "plotlyServerURL": "https://plot.ly"
       },
       "data": [
        {
         "hovertemplate": "x=%{x}<br>y=%{y}<br>z=%{z}<br>text=%{text}<extra></extra>",
         "legendgroup": "",
         "marker": {
          "color": "#636efa",
          "size": 2,
          "symbol": "circle"
         },
         "mode": "markers+text",
         "name": "",
         "scene": "scene",
         "showlegend": false,
         "text": [
          "mas",
          "vida",
          "canto",
          "camino",
          "corazon",
          "tierra",
          "voy",
          "noche",
          "guitarra",
          "luna",
          "nunca",
          "siempre",
          "solo",
          "vez",
          "sol",
          "penas",
          "viento",
          "pena",
          "hombre",
          "sabe",
          "caminos",
          "zamba",
          "pobre",
          "rio",
          "ser",
          "sombra",
          "caballo",
          "alma",
          "campo",
          "mundo",
          "pal",
          "dia",
          "asi",
          "tal",
          "cantar",
          "volver",
          "destino",
          "alla",
          "quiero",
          "copla",
          "adios",
          "cosas",
          "amor",
          "pago",
          "soledad",
          "voz",
          "tambien",
          "cerro",
          "cancion",
          "monte",
          "silencio",
          "adentro",
          "lejos",
          "largo",
          "pampa",
          "ahi",
          "bien",
          "van",
          "flor",
          "aire",
          "piedra",
          "buscando",
          "veces",
          "cantando",
          "luz",
          "dos",
          "rancho",
          "piedras",
          "dios",
          "ande",
          "cerros",
          "cielo",
          "chacarera",
          "paisano",
          "triste",
          "hace",
          "aquel",
          "andar",
          "mientras",
          "aunque",
          "sueno",
          "ojos",
          "tiempo",
          "bajo",
          "hei",
          "toda",
          "pasa",
          "cada",
          "lindo",
          "vivir",
          "vengo",
          "tiempos",
          "esperanza",
          "despues",
          "cosa",
          "mejor",
          "huella",
          "suenos",
          "canta",
          "tucuman",
          "mirar",
          "recuerdo",
          "aqui",
          "campos",
          "algun",
          "paso",
          "tan",
          "igual",
          "pasar",
          "manana",
          "senor",
          "arbol",
          "olvido",
          "vientos",
          "hoy",
          "tarde",
          "medio",
          "anda",
          "arriba",
          "estan",
          "dice",
          "coplas",
          "sera",
          "montes",
          "plata",
          "dicen",
          "mal",
          "vino",
          "queda",
          "senda",
          "ver",
          "pensar",
          "vidala",
          "llorar",
          "chango",
          "que",
          "agua",
          "mano",
          "mesmo",
          "vuelve",
          "manos",
          "poncho",
          "nombre",
          "hombres",
          "cantor",
          "rumbo",
          "larga",
          "norte",
          "negro",
          "dentro",
          "arena",
          "nadie",
          "quedo",
          "puede",
          "minero",
          "mar",
          "viejo",
          "junto",
          "nino",
          "gente",
          "visto",
          "siento",
          "mismo",
          "quiere",
          "viene",
          "valle",
          "alli",
          "indio",
          "trabajo",
          "naides",
          "buena",
          "loma",
          "llevo",
          "pase",
          "fuerte",
          "anos",
          "estrella",
          "dolor",
          "linda",
          "vidita",
          "sola",
          "estrellas",
          "pecho",
          "buen",
          "sangre",
          "andando",
          "querer",
          "duerme",
          "lao",
          "sur",
          "noches",
          "consuelo",
          "gaucho",
          "yendo",
          "llama",
          "canaveral",
          "perdido",
          "yuyos",
          "amigo",
          "selva"
         ],
         "type": "scatter3d",
         "x": [
          3.1872544288635254,
          3.0548970699310303,
          0.261184424161911,
          -0.17534908652305603,
          3.3344461917877197,
          1.0220155715942383,
          9.15573501586914,
          -4.515629291534424,
          1.433609127998352,
          -5.779420375823975,
          5.8865227699279785,
          6.953722953796387,
          6.391783714294434,
          -20.419851303100586,
          -8.478193283081055,
          14.340653419494629,
          -10.41875171661377,
          -4.711706161499023,
          7.231201171875,
          9.73267650604248,
          -3.62461519241333,
          -2.0598058700561523,
          11.909441947937012,
          -5.359349727630615,
          3.8319718837738037,
          -7.842684268951416,
          7.734950065612793,
          -3.0440175533294678,
          8.439241409301758,
          -3.8733792304992676,
          9.676054000854492,
          2.675795793533325,
          -4.978918552398682,
          -22.08229637145996,
          5.30657958984375,
          -6.602672576904297,
          4.370945453643799,
          -4.426753044128418,
          23.074216842651367,
          -2.3665034770965576,
          -13.224377632141113,
          11.906087875366211,
          2.108623743057251,
          -11.541467666625977,
          -11.49255084991455,
          -2.6952366828918457,
          11.228890419006348,
          -14.102890014648438,
          -14.032095909118652,
          -8.1279878616333,
          0.4933721423149109,
          -8.120280265808105,
          -8.757044792175293,
          42.39313888549805,
          4.369919300079346,
          -4.584366798400879,
          14.61244010925293,
          10.66557502746582,
          -15.483781814575195,
          -15.763533592224121,
          -14.194417953491211,
          6.814356327056885,
          -1.957273006439209,
          11.7454252243042,
          -8.174972534179688,
          12.179647445678711,
          -6.963599681854248,
          -12.125112533569336,
          -20.883169174194336,
          18.226364135742188,
          -17.34480857849121,
          -16.3528995513916,
          32.837921142578125,
          18.87963104248047,
          0.377208411693573,
          24.339426040649414,
          9.723031997680664,
          0.13436128199100494,
          -10.182650566101074,
          5.022329330444336,
          3.283360481262207,
          -4.5595197677612305,
          -0.32938799262046814,
          -14.569684028625488,
          18.08987045288086,
          6.044957637786865,
          5.89548397064209,
          -0.9615261554718018,
          -3.0374021530151367,
          5.208910942077637,
          -24.66314125061035,
          -3.2692313194274902,
          -3.8232171535491943,
          14.384138107299805,
          -29.319454193115234,
          11.366528511047363,
          10.556933403015137,
          3.9197487831115723,
          0.382215678691864,
          3.523355484008789,
          20.826507568359375,
          29.346084594726562,
          -26.58045768737793,
          -3.5879597663879395,
          2.221090316772461,
          -21.904512405395508,
          -3.8992388248443604,
          16.949691772460938,
          -6.656682968139648,
          -30.684986114501953,
          -7.807302951812744,
          -4.07197380065918,
          -10.84777545928955,
          2.7572009563446045,
          -31.101781845092773,
          -9.555299758911133,
          4.60179328918457,
          24.783998489379883,
          6.433350563049316,
          8.482460021972656,
          -4.342320919036865,
          6.714404582977295,
          24.009185791015625,
          -14.281883239746094,
          2.360872268676758,
          18.85942840576172,
          17.70444679260254,
          -2.4585888385772705,
          10.352181434631348,
          0.023144593462347984,
          -9.339662551879883,
          14.405726432800293,
          -12.108696937561035,
          20.973108291625977,
          -4.28149938583374,
          2.9517276287078857,
          -7.1046247482299805,
          1.9942339658737183,
          12.921630859375,
          -17.818185806274414,
          16.785463333129883,
          -16.418542861938477,
          -25.416297912597656,
          21.720531463623047,
          -19.596092224121094,
          -7.207360744476318,
          -38.118438720703125,
          -19.0397891998291,
          -2.4452590942382812,
          4.514490127563477,
          -8.968880653381348,
          21.277259826660156,
          -16.087074279785156,
          23.970680236816406,
          -0.10858999192714691,
          -24.83293342590332,
          -4.826334476470947,
          0.9631966352462769,
          -30.303712844848633,
          8.752367973327637,
          0.9992853999137878,
          5.042193412780762,
          -19.12997817993164,
          21.89890480041504,
          3.4321703910827637,
          -17.8045654296875,
          20.305213928222656,
          10.909900665283203,
          24.34600830078125,
          21.663272857666016,
          -3.2713215351104736,
          18.7321834564209,
          8.668113708496094,
          19.914621353149414,
          10.309730529785156,
          -10.030622482299805,
          -0.8903066515922546,
          -12.763960838317871,
          8.668118476867676,
          19.284740447998047,
          -3.106532573699951,
          -6.944109916687012,
          7.805204391479492,
          6.287112236022949,
          15.984192848205566,
          -32.89524459838867,
          -9.936655044555664,
          2.361572027206421,
          27.879684448242188,
          -18.577096939086914,
          -10.345572471618652,
          11.07784652709961,
          -7.169430732727051,
          5.624927043914795,
          7.00193977355957,
          -2.1400253772735596,
          39.38665008544922,
          -22.629257202148438,
          -7.266952991485596,
          -24.797279357910156
         ],
         "y": [
          7.68379020690918,
          0.48494410514831543,
          -0.3038614094257355,
          5.617310523986816,
          1.721021056175232,
          5.903800964355469,
          0.01724199205636978,
          -3.0416414737701416,
          -3.7629730701446533,
          -6.422844886779785,
          4.244529724121094,
          4.586367130279541,
          0.12382271885871887,
          -9.079947471618652,
          0.6885159611701965,
          4.211988925933838,
          -1.9977765083312988,
          -4.240653991699219,
          9.479697227478027,
          -9.99842357635498,
          3.955925226211548,
          -13.288520812988281,
          6.417050361633301,
          4.8736443519592285,
          -0.9204198718070984,
          1.2553802728652954,
          -3.7199766635894775,
          0.5195183157920837,
          0.7702668309211731,
          14.1074800491333,
          -1.172462821006775,
          3.0870182514190674,
          3.7011618614196777,
          -10.069533348083496,
          -7.1922407150268555,
          -25.009685516357422,
          -4.029191970825195,
          16.109485626220703,
          3.3051364421844482,
          8.605598449707031,
          -9.574911117553711,
          7.100158214569092,
          10.27638053894043,
          -10.552980422973633,
          11.64990234375,
          -0.7159239649772644,
          9.329968452453613,
          -5.181210041046143,
          -7.310826301574707,
          -2.0881459712982178,
          0.5026868581771851,
          -4.000492572784424,
          -6.919681549072266,
          7.480837821960449,
          6.334521293640137,
          32.245174407958984,
          -3.3249826431274414,
          -29.145267486572266,
          -4.324618816375732,
          4.991147994995117,
          6.428045272827148,
          6.346189022064209,
          23.313806533813477,
          3.423839569091797,
          6.0520453453063965,
          0.8207263946533203,
          -9.653008460998535,
          -3.621311664581299,
          10.419167518615723,
          -13.540783882141113,
          20.420103073120117,
          11.126411437988281,
          6.091698169708252,
          -12.85525131225586,
          -8.976398468017578,
          0.4242496192455292,
          -4.997601509094238,
          19.053499221801758,
          3.7250022888183594,
          0.5891375541687012,
          -7.578888416290283,
          -1.5125401020050049,
          10.06467056274414,
          6.22550630569458,
          15.736023902893066,
          -2.0737805366516113,
          6.510801792144775,
          12.183186531066895,
          -0.917178750038147,
          2.282094955444336,
          -12.808545112609863,
          -31.50479507446289,
          -1.722052812576294,
          -5.535510063171387,
          15.134222030639648,
          9.347503662109375,
          -1.4372167587280273,
          14.257857322692871,
          14.185808181762695,
          -10.618234634399414,
          -7.991413593292236,
          -30.417572021484375,
          -5.234564781188965,
          8.660210609436035,
          6.104731559753418,
          17.946083068847656,
          -28.013723373413086,
          14.366484642028809,
          -22.54648208618164,
          -10.351387977600098,
          35.21320343017578,
          8.802435874938965,
          -19.178274154663086,
          -25.244112014770508,
          -8.559715270996094,
          -0.6937084794044495,
          -6.382934093475342,
          6.887047290802002,
          8.271663665771484,
          -20.250621795654297,
          27.982412338256836,
          1.8930612802505493,
          7.178293228149414,
          -35.35104751586914,
          -7.795717716217041,
          1.2873210906982422,
          -8.144159317016602,
          -16.722423553466797,
          15.22835922241211,
          -44.947505950927734,
          -9.596359252929688,
          9.438131332397461,
          0.6652040481567383,
          0.35418373346328735,
          -4.252328395843506,
          3.6741185188293457,
          8.558524131774902,
          -20.092361450195312,
          25.242094039916992,
          -6.370566368103027,
          18.148584365844727,
          -1.3003144264221191,
          12.232084274291992,
          -2.9520604610443115,
          -5.1581292152404785,
          17.77545738220215,
          9.612480163574219,
          12.968711853027344,
          25.34679412841797,
          -1.5829856395721436,
          16.03133201599121,
          -6.24838399887085,
          -11.404216766357422,
          -0.5420477390289307,
          -26.323362350463867,
          3.984936475753784,
          5.313290119171143,
          3.3514981269836426,
          -18.958614349365234,
          20.283924102783203,
          19.739099502563477,
          -9.414262771606445,
          16.70448112487793,
          -9.472333908081055,
          15.761906623840332,
          -2.648139715194702,
          4.065576553344727,
          17.9276123046875,
          24.79844093322754,
          7.91004753112793,
          8.822343826293945,
          -39.68311309814453,
          18.24066162109375,
          1.7803584337234497,
          -20.585590362548828,
          -25.874858856201172,
          -13.606144905090332,
          -1.1129249334335327,
          -15.128955841064453,
          -22.354398727416992,
          -10.774131774902344,
          24.083084106445312,
          -23.84444808959961,
          11.227663040161133,
          10.740449905395508,
          6.03989315032959,
          -25.38606071472168,
          10.153704643249512,
          16.38854217529297,
          10.651534080505371,
          -42.98545837402344,
          -12.724725723266602,
          -13.294425010681152,
          -8.180571556091309,
          10.802230834960938,
          -20.572763442993164,
          -6.431067943572998,
          34.0311164855957,
          11.142202377319336,
          8.45840072631836
         ],
         "z": [
          -0.5928618907928467,
          -3.6516175270080566,
          1.268109917640686,
          9.005057334899902,
          3.6171534061431885,
          4.035588264465332,
          -4.662085056304932,
          1.3331248760223389,
          4.274159908294678,
          -2.6796486377716064,
          -4.958375453948975,
          0.2245045304298401,
          1.1468861103057861,
          -4.460428237915039,
          8.04867172241211,
          6.629039287567139,
          13.36246109008789,
          9.48007869720459,
          -2.1334218978881836,
          -0.28064262866973877,
          2.8435771465301514,
          -11.93095588684082,
          0.7137050032615662,
          9.743719100952148,
          -9.186322212219238,
          1.0220221281051636,
          0.5979043245315552,
          14.2472562789917,
          11.010641098022461,
          2.0602142810821533,
          -14.670788764953613,
          -13.529281616210938,
          -5.048163890838623,
          -6.842496395111084,
          4.718377113342285,
          -10.047637939453125,
          -5.081659317016602,
          7.854060173034668,
          -9.853190422058105,
          -1.7581005096435547,
          0.5313132405281067,
          -18.416889190673828,
          4.917077541351318,
          -13.44815731048584,
          13.007612228393555,
          5.262109756469727,
          -5.26482629776001,
          2.430452585220337,
          24.715885162353516,
          -3.3877227306365967,
          8.87908935546875,
          3.3978772163391113,
          11.362406730651855,
          4.084946632385254,
          9.297322273254395,
          2.18515682220459,
          1.0896964073181152,
          -15.990522384643555,
          16.368284225463867,
          8.663389205932617,
          17.458267211914062,
          14.168375015258789,
          -2.9804396629333496,
          -7.3462605476379395,
          -1.1859818696975708,
          0.54015052318573,
          -13.786529541015625,
          7.6762189865112305,
          -1.3750091791152954,
          -11.69763469696045,
          20.461957931518555,
          5.056679725646973,
          -3.5945329666137695,
          13.042484283447266,
          -7.832982540130615,
          -2.2007980346679688,
          8.660198211669922,
          17.988433837890625,
          4.0072712898254395,
          -24.497194290161133,
          -1.6487162113189697,
          -21.18763542175293,
          -29.35792350769043,
          4.43414831161499,
          -27.60101890563965,
          13.357033729553223,
          20.310468673706055,
          -2.4216699600219727,
          -11.556066513061523,
          -20.349750518798828,
          18.006938934326172,
          25.74184799194336,
          18.317703247070312,
          -3.4284420013427734,
          -10.788792610168457,
          10.125446319580078,
          5.849186420440674,
          0.12805475294589996,
          7.104854583740234,
          -17.716001510620117,
          23.218637466430664,
          -7.607176780700684,
          -1.8057489395141602,
          4.330015182495117,
          -12.3486967086792,
          -2.4314942359924316,
          14.954959869384766,
          -7.824650764465332,
          19.293638229370117,
          1.228846788406372,
          9.856849670410156,
          10.763080596923828,
          -7.119966983795166,
          17.6374568939209,
          -3.457033157348633,
          -7.125214099884033,
          -10.940977096557617,
          3.7519662380218506,
          25.821197509765625,
          13.886841773986816,
          2.4712812900543213,
          17.97787094116211,
          -7.36008358001709,
          -5.495548248291016,
          -24.3170108795166,
          -5.142378330230713,
          -5.415814399719238,
          1.415854811668396,
          -2.4985270500183105,
          -13.597329139709473,
          -25.04801368713379,
          -15.14900016784668,
          0.029950838536024094,
          1.924386978149414,
          35.417545318603516,
          -0.8397226929664612,
          24.822065353393555,
          0.1345653384923935,
          -12.506326675415039,
          19.750484466552734,
          2.879683256149292,
          -18.37941551208496,
          6.890401840209961,
          21.51441192626953,
          26.841846466064453,
          -11.175738334655762,
          6.054788589477539,
          -27.577972412109375,
          -14.718423843383789,
          6.999645709991455,
          9.601776123046875,
          -5.996065139770508,
          -12.182050704956055,
          -12.761651039123535,
          32.492000579833984,
          -13.840136528015137,
          -10.752857208251953,
          14.82321548461914,
          -19.18291473388672,
          36.43499755859375,
          3.3312034606933594,
          19.81089210510254,
          -4.032472610473633,
          -24.162487030029297,
          -8.179240226745605,
          13.1572265625,
          -33.03984451293945,
          12.801301956176758,
          -10.34119987487793,
          -15.967233657836914,
          -15.727570533752441,
          -5.776811599731445,
          4.640706539154053,
          -22.354656219482422,
          33.68207931518555,
          18.931642532348633,
          11.262977600097656,
          18.41127586364746,
          -24.657011032104492,
          -16.785451889038086,
          8.045300483703613,
          12.735616683959961,
          3.96455717086792,
          -12.914907455444336,
          22.669858932495117,
          17.367998123168945,
          -7.228084087371826,
          35.76380157470703,
          -27.796640396118164,
          -29.466646194458008,
          0.5925672650337219,
          6.06818151473999,
          -9.080087661743164,
          28.43243980407715,
          4.9701948165893555,
          -39.09915542602539,
          -21.267854690551758,
          -15.331483840942383,
          -7.033320903778076,
          -15.18525505065918
         ]
        }
       ],
       "layout": {
        "legend": {
         "tracegroupgap": 0
        },
        "margin": {
         "t": 60
        },
        "scene": {
         "domain": {
          "x": [
           0,
           1
          ],
          "y": [
           0,
           1
          ]
         },
         "xaxis": {
          "title": {
           "text": "x"
          }
         },
         "yaxis": {
          "title": {
           "text": "y"
          }
         },
         "zaxis": {
          "title": {
           "text": "z"
          }
         }
        },
        "template": {
         "data": {
          "bar": [
           {
            "error_x": {
             "color": "#2a3f5f"
            },
            "error_y": {
             "color": "#2a3f5f"
            },
            "marker": {
             "line": {
              "color": "#E5ECF6",
              "width": 0.5
             },
             "pattern": {
              "fillmode": "overlay",
              "size": 10,
              "solidity": 0.2
             }
            },
            "type": "bar"
           }
          ],
          "barpolar": [
           {
            "marker": {
             "line": {
              "color": "#E5ECF6",
              "width": 0.5
             },
             "pattern": {
              "fillmode": "overlay",
              "size": 10,
              "solidity": 0.2
             }
            },
            "type": "barpolar"
           }
          ],
          "carpet": [
           {
            "aaxis": {
             "endlinecolor": "#2a3f5f",
             "gridcolor": "white",
             "linecolor": "white",
             "minorgridcolor": "white",
             "startlinecolor": "#2a3f5f"
            },
            "baxis": {
             "endlinecolor": "#2a3f5f",
             "gridcolor": "white",
             "linecolor": "white",
             "minorgridcolor": "white",
             "startlinecolor": "#2a3f5f"
            },
            "type": "carpet"
           }
          ],
          "choropleth": [
           {
            "colorbar": {
             "outlinewidth": 0,
             "ticks": ""
            },
            "type": "choropleth"
           }
          ],
          "contour": [
           {
            "colorbar": {
             "outlinewidth": 0,
             "ticks": ""
            },
            "colorscale": [
             [
              0,
              "#0d0887"
             ],
             [
              0.1111111111111111,
              "#46039f"
             ],
             [
              0.2222222222222222,
              "#7201a8"
             ],
             [
              0.3333333333333333,
              "#9c179e"
             ],
             [
              0.4444444444444444,
              "#bd3786"
             ],
             [
              0.5555555555555556,
              "#d8576b"
             ],
             [
              0.6666666666666666,
              "#ed7953"
             ],
             [
              0.7777777777777778,
              "#fb9f3a"
             ],
             [
              0.8888888888888888,
              "#fdca26"
             ],
             [
              1,
              "#f0f921"
             ]
            ],
            "type": "contour"
           }
          ],
          "contourcarpet": [
           {
            "colorbar": {
             "outlinewidth": 0,
             "ticks": ""
            },
            "type": "contourcarpet"
           }
          ],
          "heatmap": [
           {
            "colorbar": {
             "outlinewidth": 0,
             "ticks": ""
            },
            "colorscale": [
             [
              0,
              "#0d0887"
             ],
             [
              0.1111111111111111,
              "#46039f"
             ],
             [
              0.2222222222222222,
              "#7201a8"
             ],
             [
              0.3333333333333333,
              "#9c179e"
             ],
             [
              0.4444444444444444,
              "#bd3786"
             ],
             [
              0.5555555555555556,
              "#d8576b"
             ],
             [
              0.6666666666666666,
              "#ed7953"
             ],
             [
              0.7777777777777778,
              "#fb9f3a"
             ],
             [
              0.8888888888888888,
              "#fdca26"
             ],
             [
              1,
              "#f0f921"
             ]
            ],
            "type": "heatmap"
           }
          ],
          "heatmapgl": [
           {
            "colorbar": {
             "outlinewidth": 0,
             "ticks": ""
            },
            "colorscale": [
             [
              0,
              "#0d0887"
             ],
             [
              0.1111111111111111,
              "#46039f"
             ],
             [
              0.2222222222222222,
              "#7201a8"
             ],
             [
              0.3333333333333333,
              "#9c179e"
             ],
             [
              0.4444444444444444,
              "#bd3786"
             ],
             [
              0.5555555555555556,
              "#d8576b"
             ],
             [
              0.6666666666666666,
              "#ed7953"
             ],
             [
              0.7777777777777778,
              "#fb9f3a"
             ],
             [
              0.8888888888888888,
              "#fdca26"
             ],
             [
              1,
              "#f0f921"
             ]
            ],
            "type": "heatmapgl"
           }
          ],
          "histogram": [
           {
            "marker": {
             "pattern": {
              "fillmode": "overlay",
              "size": 10,
              "solidity": 0.2
             }
            },
            "type": "histogram"
           }
          ],
          "histogram2d": [
           {
            "colorbar": {
             "outlinewidth": 0,
             "ticks": ""
            },
            "colorscale": [
             [
              0,
              "#0d0887"
             ],
             [
              0.1111111111111111,
              "#46039f"
             ],
             [
              0.2222222222222222,
              "#7201a8"
             ],
             [
              0.3333333333333333,
              "#9c179e"
             ],
             [
              0.4444444444444444,
              "#bd3786"
             ],
             [
              0.5555555555555556,
              "#d8576b"
             ],
             [
              0.6666666666666666,
              "#ed7953"
             ],
             [
              0.7777777777777778,
              "#fb9f3a"
             ],
             [
              0.8888888888888888,
              "#fdca26"
             ],
             [
              1,
              "#f0f921"
             ]
            ],
            "type": "histogram2d"
           }
          ],
          "histogram2dcontour": [
           {
            "colorbar": {
             "outlinewidth": 0,
             "ticks": ""
            },
            "colorscale": [
             [
              0,
              "#0d0887"
             ],
             [
              0.1111111111111111,
              "#46039f"
             ],
             [
              0.2222222222222222,
              "#7201a8"
             ],
             [
              0.3333333333333333,
              "#9c179e"
             ],
             [
              0.4444444444444444,
              "#bd3786"
             ],
             [
              0.5555555555555556,
              "#d8576b"
             ],
             [
              0.6666666666666666,
              "#ed7953"
             ],
             [
              0.7777777777777778,
              "#fb9f3a"
             ],
             [
              0.8888888888888888,
              "#fdca26"
             ],
             [
              1,
              "#f0f921"
             ]
            ],
            "type": "histogram2dcontour"
           }
          ],
          "mesh3d": [
           {
            "colorbar": {
             "outlinewidth": 0,
             "ticks": ""
            },
            "type": "mesh3d"
           }
          ],
          "parcoords": [
           {
            "line": {
             "colorbar": {
              "outlinewidth": 0,
              "ticks": ""
             }
            },
            "type": "parcoords"
           }
          ],
          "pie": [
           {
            "automargin": true,
            "type": "pie"
           }
          ],
          "scatter": [
           {
            "fillpattern": {
             "fillmode": "overlay",
             "size": 10,
             "solidity": 0.2
            },
            "type": "scatter"
           }
          ],
          "scatter3d": [
           {
            "line": {
             "colorbar": {
              "outlinewidth": 0,
              "ticks": ""
             }
            },
            "marker": {
             "colorbar": {
              "outlinewidth": 0,
              "ticks": ""
             }
            },
            "type": "scatter3d"
           }
          ],
          "scattercarpet": [
           {
            "marker": {
             "colorbar": {
              "outlinewidth": 0,
              "ticks": ""
             }
            },
            "type": "scattercarpet"
           }
          ],
          "scattergeo": [
           {
            "marker": {
             "colorbar": {
              "outlinewidth": 0,
              "ticks": ""
             }
            },
            "type": "scattergeo"
           }
          ],
          "scattergl": [
           {
            "marker": {
             "colorbar": {
              "outlinewidth": 0,
              "ticks": ""
             }
            },
            "type": "scattergl"
           }
          ],
          "scattermapbox": [
           {
            "marker": {
             "colorbar": {
              "outlinewidth": 0,
              "ticks": ""
             }
            },
            "type": "scattermapbox"
           }
          ],
          "scatterpolar": [
           {
            "marker": {
             "colorbar": {
              "outlinewidth": 0,
              "ticks": ""
             }
            },
            "type": "scatterpolar"
           }
          ],
          "scatterpolargl": [
           {
            "marker": {
             "colorbar": {
              "outlinewidth": 0,
              "ticks": ""
             }
            },
            "type": "scatterpolargl"
           }
          ],
          "scatterternary": [
           {
            "marker": {
             "colorbar": {
              "outlinewidth": 0,
              "ticks": ""
             }
            },
            "type": "scatterternary"
           }
          ],
          "surface": [
           {
            "colorbar": {
             "outlinewidth": 0,
             "ticks": ""
            },
            "colorscale": [
             [
              0,
              "#0d0887"
             ],
             [
              0.1111111111111111,
              "#46039f"
             ],
             [
              0.2222222222222222,
              "#7201a8"
             ],
             [
              0.3333333333333333,
              "#9c179e"
             ],
             [
              0.4444444444444444,
              "#bd3786"
             ],
             [
              0.5555555555555556,
              "#d8576b"
             ],
             [
              0.6666666666666666,
              "#ed7953"
             ],
             [
              0.7777777777777778,
              "#fb9f3a"
             ],
             [
              0.8888888888888888,
              "#fdca26"
             ],
             [
              1,
              "#f0f921"
             ]
            ],
            "type": "surface"
           }
          ],
          "table": [
           {
            "cells": {
             "fill": {
              "color": "#EBF0F8"
             },
             "line": {
              "color": "white"
             }
            },
            "header": {
             "fill": {
              "color": "#C8D4E3"
             },
             "line": {
              "color": "white"
             }
            },
            "type": "table"
           }
          ]
         },
         "layout": {
          "annotationdefaults": {
           "arrowcolor": "#2a3f5f",
           "arrowhead": 0,
           "arrowwidth": 1
          },
          "autotypenumbers": "strict",
          "coloraxis": {
           "colorbar": {
            "outlinewidth": 0,
            "ticks": ""
           }
          },
          "colorscale": {
           "diverging": [
            [
             0,
             "#8e0152"
            ],
            [
             0.1,
             "#c51b7d"
            ],
            [
             0.2,
             "#de77ae"
            ],
            [
             0.3,
             "#f1b6da"
            ],
            [
             0.4,
             "#fde0ef"
            ],
            [
             0.5,
             "#f7f7f7"
            ],
            [
             0.6,
             "#e6f5d0"
            ],
            [
             0.7,
             "#b8e186"
            ],
            [
             0.8,
             "#7fbc41"
            ],
            [
             0.9,
             "#4d9221"
            ],
            [
             1,
             "#276419"
            ]
           ],
           "sequential": [
            [
             0,
             "#0d0887"
            ],
            [
             0.1111111111111111,
             "#46039f"
            ],
            [
             0.2222222222222222,
             "#7201a8"
            ],
            [
             0.3333333333333333,
             "#9c179e"
            ],
            [
             0.4444444444444444,
             "#bd3786"
            ],
            [
             0.5555555555555556,
             "#d8576b"
            ],
            [
             0.6666666666666666,
             "#ed7953"
            ],
            [
             0.7777777777777778,
             "#fb9f3a"
            ],
            [
             0.8888888888888888,
             "#fdca26"
            ],
            [
             1,
             "#f0f921"
            ]
           ],
           "sequentialminus": [
            [
             0,
             "#0d0887"
            ],
            [
             0.1111111111111111,
             "#46039f"
            ],
            [
             0.2222222222222222,
             "#7201a8"
            ],
            [
             0.3333333333333333,
             "#9c179e"
            ],
            [
             0.4444444444444444,
             "#bd3786"
            ],
            [
             0.5555555555555556,
             "#d8576b"
            ],
            [
             0.6666666666666666,
             "#ed7953"
            ],
            [
             0.7777777777777778,
             "#fb9f3a"
            ],
            [
             0.8888888888888888,
             "#fdca26"
            ],
            [
             1,
             "#f0f921"
            ]
           ]
          },
          "colorway": [
           "#636efa",
           "#EF553B",
           "#00cc96",
           "#ab63fa",
           "#FFA15A",
           "#19d3f3",
           "#FF6692",
           "#B6E880",
           "#FF97FF",
           "#FECB52"
          ],
          "font": {
           "color": "#2a3f5f"
          },
          "geo": {
           "bgcolor": "white",
           "lakecolor": "white",
           "landcolor": "#E5ECF6",
           "showlakes": true,
           "showland": true,
           "subunitcolor": "white"
          },
          "hoverlabel": {
           "align": "left"
          },
          "hovermode": "closest",
          "mapbox": {
           "style": "light"
          },
          "paper_bgcolor": "white",
          "plot_bgcolor": "#E5ECF6",
          "polar": {
           "angularaxis": {
            "gridcolor": "white",
            "linecolor": "white",
            "ticks": ""
           },
           "bgcolor": "#E5ECF6",
           "radialaxis": {
            "gridcolor": "white",
            "linecolor": "white",
            "ticks": ""
           }
          },
          "scene": {
           "xaxis": {
            "backgroundcolor": "#E5ECF6",
            "gridcolor": "white",
            "gridwidth": 2,
            "linecolor": "white",
            "showbackground": true,
            "ticks": "",
            "zerolinecolor": "white"
           },
           "yaxis": {
            "backgroundcolor": "#E5ECF6",
            "gridcolor": "white",
            "gridwidth": 2,
            "linecolor": "white",
            "showbackground": true,
            "ticks": "",
            "zerolinecolor": "white"
           },
           "zaxis": {
            "backgroundcolor": "#E5ECF6",
            "gridcolor": "white",
            "gridwidth": 2,
            "linecolor": "white",
            "showbackground": true,
            "ticks": "",
            "zerolinecolor": "white"
           }
          },
          "shapedefaults": {
           "line": {
            "color": "#2a3f5f"
           }
          },
          "ternary": {
           "aaxis": {
            "gridcolor": "white",
            "linecolor": "white",
            "ticks": ""
           },
           "baxis": {
            "gridcolor": "white",
            "linecolor": "white",
            "ticks": ""
           },
           "bgcolor": "#E5ECF6",
           "caxis": {
            "gridcolor": "white",
            "linecolor": "white",
            "ticks": ""
           }
          },
          "title": {
           "x": 0.05
          },
          "xaxis": {
           "automargin": true,
           "gridcolor": "white",
           "linecolor": "white",
           "ticks": "",
           "title": {
            "standoff": 15
           },
           "zerolinecolor": "white",
           "zerolinewidth": 2
          },
          "yaxis": {
           "automargin": true,
           "gridcolor": "white",
           "linecolor": "white",
           "ticks": "",
           "title": {
            "standoff": 15
           },
           "zerolinecolor": "white",
           "zerolinewidth": 2
          }
         }
        }
       }
      }
     },
     "metadata": {},
     "output_type": "display_data"
    }
   ],
   "source": [
    "# Graficar los embedddings en 3D\n",
    "\n",
    "vecs, labels = reduce_dimensions(w2v_model,3)\n",
    "\n",
    "fig = px.scatter_3d(x=vecs[:MAX_WORDS,0], y=vecs[:MAX_WORDS,1], z=vecs[:MAX_WORDS,2],text=labels[:MAX_WORDS])\n",
    "fig.update_traces(marker_size = 2)\n",
    "fig.show() # renderer=\"colab\" esto para plotly en colab"
   ]
  },
  {
   "cell_type": "markdown",
   "metadata": {},
   "source": [
    "Podemos observar ka cercania entre algunos de los terminos como (\"hoy\", \"maniana\"), (\"cantor\", \"cancion\"), y (\"vengo\", \"vuelve\") por ejemplo. Resultaria interesante realizar el mismo procedmiento pero con un corpus mayor, quizas incluyendo las canciones de multiples artistas y no solo las de Atahualpa Yupanqui. Eso podria contribuir a la variacion en el contexto de utilizacion de los terminos permitiendo contextualizar mejor cada una de las palabras."
   ]
  }
 ],
 "metadata": {
  "kernelspec": {
   "display_name": "CEIA_pln-ttAQ7Bhm",
   "language": "python",
   "name": "python3"
  },
  "language_info": {
   "codemirror_mode": {
    "name": "ipython",
    "version": 3
   },
   "file_extension": ".py",
   "mimetype": "text/x-python",
   "name": "python",
   "nbconvert_exporter": "python",
   "pygments_lexer": "ipython3",
   "version": "3.11.9"
  }
 },
 "nbformat": 4,
 "nbformat_minor": 2
}
