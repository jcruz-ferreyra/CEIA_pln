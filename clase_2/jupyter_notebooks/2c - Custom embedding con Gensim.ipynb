{
 "cells": [
  {
   "cell_type": "markdown",
   "metadata": {
    "id": "sZd5yLnnHOK0"
   },
   "source": [
    "<img src=\"https://github.com/hernancontigiani/ceia_memorias_especializacion/raw/master/Figures/logoFIUBA.jpg\" width=\"500\" align=\"center\">\n",
    "\n",
    "\n",
    "# Procesamiento de lenguaje natural\n",
    "## Custom embedddings con Gensim\n",
    "\n"
   ]
  },
  {
   "cell_type": "markdown",
   "metadata": {
    "id": "vA7nqkumo9z9"
   },
   "source": [
    "### Objetivo\n",
    "El objetivo es utilizar documentos / corpus para crear embeddings de palabras basado en ese contexto. Se utilizará canciones de bandas para generar los embeddings, es decir, que los vectores tendrán la forma en función de como esa banda haya utilizado las palabras en sus canciones."
   ]
  },
  {
   "cell_type": "code",
   "execution_count": 1,
   "metadata": {
    "id": "lFToQs5FK5uZ"
   },
   "outputs": [],
   "source": [
    "import multiprocessing\n",
    "import os\n",
    "\n",
    "import matplotlib.pyplot as plt\n",
    "import pandas as pd\n",
    "import seaborn as sns\n",
    "from gensim.models import Word2Vec"
   ]
  },
  {
   "cell_type": "markdown",
   "metadata": {
    "id": "g07zJxG7H9vG"
   },
   "source": [
    "### Datos\n",
    "Utilizaremos como dataset canciones de bandas de habla inglesa."
   ]
  },
  {
   "cell_type": "code",
   "execution_count": null,
   "metadata": {
    "id": "l7z4CSBfpR3X"
   },
   "outputs": [],
   "source": [
    "# # Descargar la carpeta de dataset\n",
    "# import os\n",
    "# import platform\n",
    "# if os.access('./songs_dataset', os.F_OK) is False:\n",
    "#     if os.access('songs_dataset.zip', os.F_OK) is False:\n",
    "#         if platform.system() == 'Windows':\n",
    "#             !curl https://raw.githubusercontent.com/FIUBA-Posgrado-Inteligencia-Artificial/procesamiento_lenguaje_natural/main/datasets/songs_dataset.zip -o songs_dataset.zip\n",
    "#         else:\n",
    "#             !wget songs_dataset.zip https://github.com/FIUBA-Posgrado-Inteligencia-Artificial/procesamiento_lenguaje_natural/raw/main/datasets/songs_dataset.zip\n",
    "#     !unzip -q songs_dataset.zip   \n",
    "# else:\n",
    "#     print(\"El dataset ya se encuentra descargado\")"
   ]
  },
  {
   "cell_type": "code",
   "execution_count": null,
   "metadata": {},
   "outputs": [],
   "source": [
    "sys.exit(0)\n",
    "\n",
    "import requests\n",
    "import zipfile\n",
    "\n",
    "url = \"https://raw.githubusercontent.com/FIUBA-Posgrado-Inteligencia-Artificial/procesamiento_lenguaje_natural/main/datasets/songs_dataset.zip\"\n",
    "response = requests.get(url)\n",
    "with open(\"songs_dataset.zip\", \"wb\") as file:\n",
    "    file.write(response.content)\n",
    "\n",
    "with zipfile.ZipFile(\"songs_dataset.zip\", \"r\") as zip_ref:\n",
    "    zip_ref.extractall(\".\")"
   ]
  },
  {
   "cell_type": "code",
   "execution_count": 2,
   "metadata": {
    "id": "mysGrIw9ljC2"
   },
   "outputs": [
    {
     "data": {
      "text/plain": [
       "['adele.txt',\n",
       " 'al-green.txt',\n",
       " 'alicia-keys.txt',\n",
       " 'amy-winehouse.txt',\n",
       " 'beatles.txt',\n",
       " 'bieber.txt',\n",
       " 'bjork.txt',\n",
       " 'blink-182.txt',\n",
       " 'bob-dylan.txt',\n",
       " 'bob-marley.txt',\n",
       " 'britney-spears.txt',\n",
       " 'bruce-springsteen.txt',\n",
       " 'bruno-mars.txt',\n",
       " 'cake.txt',\n",
       " 'dickinson.txt',\n",
       " 'disney.txt',\n",
       " 'dj-khaled.txt',\n",
       " 'dolly-parton.txt',\n",
       " 'dr-seuss.txt',\n",
       " 'drake.txt',\n",
       " 'eminem.txt',\n",
       " 'janisjoplin.txt',\n",
       " 'jimi-hendrix.txt',\n",
       " 'johnny-cash.txt',\n",
       " 'joni-mitchell.txt',\n",
       " 'kanye-west.txt',\n",
       " 'kanye.txt',\n",
       " 'Kanye_West.txt',\n",
       " 'lady-gaga.txt',\n",
       " 'leonard-cohen.txt',\n",
       " 'lil-wayne.txt',\n",
       " 'Lil_Wayne.txt',\n",
       " 'lin-manuel-miranda.txt',\n",
       " 'lorde.txt',\n",
       " 'ludacris.txt',\n",
       " 'michael-jackson.txt',\n",
       " 'missy-elliott.txt',\n",
       " 'nickelback.txt',\n",
       " 'nicki-minaj.txt',\n",
       " 'nirvana.txt',\n",
       " 'notorious-big.txt',\n",
       " 'notorious_big.txt',\n",
       " 'nursery_rhymes.txt',\n",
       " 'patti-smith.txt',\n",
       " 'paul-simon.txt',\n",
       " 'prince.txt',\n",
       " 'r-kelly.txt',\n",
       " 'radiohead.txt',\n",
       " 'rihanna.txt']"
      ]
     },
     "execution_count": 2,
     "metadata": {},
     "output_type": "execute_result"
    }
   ],
   "source": [
    "# Posibles bandas\n",
    "os.listdir(\"./songs_dataset/\")"
   ]
  },
  {
   "cell_type": "code",
   "execution_count": 3,
   "metadata": {
    "id": "ticoqYD1Z3I7"
   },
   "outputs": [
    {
     "name": "stderr",
     "output_type": "stream",
     "text": [
      "C:\\Users\\usuario\\AppData\\Local\\Temp\\ipykernel_13412\\3849064916.py:2: ParserWarning: Falling back to the 'python' engine because the 'c' engine does not support regex separators (separators > 1 char and different from '\\s+' are interpreted as regex); you can avoid this warning by specifying engine='python'.\n",
      "  df = pd.read_csv('songs_dataset/beatles.txt', sep='/n', header=None)\n"
     ]
    },
    {
     "data": {
      "text/html": [
       "<div>\n",
       "<style scoped>\n",
       "    .dataframe tbody tr th:only-of-type {\n",
       "        vertical-align: middle;\n",
       "    }\n",
       "\n",
       "    .dataframe tbody tr th {\n",
       "        vertical-align: top;\n",
       "    }\n",
       "\n",
       "    .dataframe thead th {\n",
       "        text-align: right;\n",
       "    }\n",
       "</style>\n",
       "<table border=\"1\" class=\"dataframe\">\n",
       "  <thead>\n",
       "    <tr style=\"text-align: right;\">\n",
       "      <th></th>\n",
       "      <th>0</th>\n",
       "    </tr>\n",
       "  </thead>\n",
       "  <tbody>\n",
       "    <tr>\n",
       "      <th>0</th>\n",
       "      <td>Yesterday, all my troubles seemed so far away</td>\n",
       "    </tr>\n",
       "    <tr>\n",
       "      <th>1</th>\n",
       "      <td>Now it looks as though they're here to stay</td>\n",
       "    </tr>\n",
       "    <tr>\n",
       "      <th>2</th>\n",
       "      <td>Oh, I believe in yesterday Suddenly, I'm not h...</td>\n",
       "    </tr>\n",
       "    <tr>\n",
       "      <th>3</th>\n",
       "      <td>There's a shadow hanging over me.</td>\n",
       "    </tr>\n",
       "    <tr>\n",
       "      <th>4</th>\n",
       "      <td>Oh, yesterday came suddenly Why she had to go ...</td>\n",
       "    </tr>\n",
       "  </tbody>\n",
       "</table>\n",
       "</div>"
      ],
      "text/plain": [
       "                                                   0\n",
       "0      Yesterday, all my troubles seemed so far away\n",
       "1        Now it looks as though they're here to stay\n",
       "2  Oh, I believe in yesterday Suddenly, I'm not h...\n",
       "3                  There's a shadow hanging over me.\n",
       "4  Oh, yesterday came suddenly Why she had to go ..."
      ]
     },
     "execution_count": 3,
     "metadata": {},
     "output_type": "execute_result"
    }
   ],
   "source": [
    "# Armar el dataset utilizando salto de línea para separar las oraciones/docs\n",
    "df = pd.read_csv('songs_dataset/beatles.txt', sep='/n', header=None)\n",
    "df.head()"
   ]
  },
  {
   "cell_type": "code",
   "execution_count": 4,
   "metadata": {
    "id": "LEpKubK9XzXN"
   },
   "outputs": [
    {
     "name": "stdout",
     "output_type": "stream",
     "text": [
      "Cantidad de documentos: 1846\n"
     ]
    }
   ],
   "source": [
    "print(\"Cantidad de documentos:\", df.shape[0])"
   ]
  },
  {
   "cell_type": "markdown",
   "metadata": {
    "id": "ab94qaFlrA1G"
   },
   "source": [
    "### 1 - Preprocesamiento"
   ]
  },
  {
   "cell_type": "code",
   "execution_count": 5,
   "metadata": {
    "id": "rIsmMWmjrDHd"
   },
   "outputs": [],
   "source": [
    "from tensorflow.keras.preprocessing.text import text_to_word_sequence\n",
    "\n",
    "sentence_tokens = []\n",
    "# Recorrer todas las filas y transformar las oraciones\n",
    "# en una secuencia de palabras (esto podría realizarse con NLTK o spaCy también)\n",
    "for _, row in df[:None].iterrows():\n",
    "    sentence_tokens.append(text_to_word_sequence(row[0]))"
   ]
  },
  {
   "cell_type": "code",
   "execution_count": 6,
   "metadata": {
    "id": "CHepi_DGrbhq"
   },
   "outputs": [
    {
     "data": {
      "text/plain": [
       "[['yesterday', 'all', 'my', 'troubles', 'seemed', 'so', 'far', 'away'],\n",
       " ['now', 'it', 'looks', 'as', 'though', \"they're\", 'here', 'to', 'stay']]"
      ]
     },
     "execution_count": 6,
     "metadata": {},
     "output_type": "execute_result"
    }
   ],
   "source": [
    "# Demos un vistazo\n",
    "sentence_tokens[:2]"
   ]
  },
  {
   "cell_type": "markdown",
   "metadata": {},
   "source": [
    "Those are not tokens properly, but segmented sentences instead."
   ]
  },
  {
   "cell_type": "markdown",
   "metadata": {
    "id": "BaXV6nlHr5Aa"
   },
   "source": [
    "### 2 - Crear los vectores (word2vec)"
   ]
  },
  {
   "cell_type": "code",
   "execution_count": 7,
   "metadata": {
    "id": "OSb0v7h8r7hK"
   },
   "outputs": [],
   "source": [
    "from gensim.models.callbacks import CallbackAny2Vec\n",
    "# Durante el entrenamiento gensim por defecto no informa el \"loss\" en cada época\n",
    "# Sobrecargamos el callback para poder tener esta información\n",
    "class callback(CallbackAny2Vec):\n",
    "    \"\"\"\n",
    "    Callback to print loss after each epoch\n",
    "    \"\"\"\n",
    "    def __init__(self):\n",
    "        self.epoch = 0\n",
    "\n",
    "    def on_epoch_end(self, model):\n",
    "        loss = model.get_latest_training_loss()\n",
    "        if self.epoch == 0:\n",
    "            print('Loss after epoch {}: {}'.format(self.epoch, loss))\n",
    "        else:\n",
    "            print('Loss after epoch {}: {}'.format(self.epoch, loss- self.loss_previous_step))\n",
    "        self.epoch += 1\n",
    "        self.loss_previous_step = loss"
   ]
  },
  {
   "cell_type": "code",
   "execution_count": 8,
   "metadata": {
    "id": "i0wnDdv9sJ47"
   },
   "outputs": [],
   "source": [
    "# Crearmos el modelo generador de vectores\n",
    "# En este caso utilizaremos la estructura modelo Skipgram\n",
    "w2v_model = Word2Vec(min_count=5,    # frecuencia mínima de palabra para incluirla en el vocabulario\n",
    "                     window=2,       # cant de palabras antes y desp de la predicha\n",
    "                     vector_size=50,       # dimensionalidad de los vectores \n",
    "                     negative=20,    # cantidad de negative samples... 0 es no se usa\n",
    "                     workers=1,      # si tienen más cores pueden cambiar este valor\n",
    "                     sg=1)           # modelo 0:CBOW  1:skipgram"
   ]
  },
  {
   "cell_type": "code",
   "execution_count": 9,
   "metadata": {
    "id": "5lTt8wErsf17"
   },
   "outputs": [],
   "source": [
    "# Obtener el vocabulario con los tokens\n",
    "w2v_model.build_vocab(sentence_tokens)"
   ]
  },
  {
   "cell_type": "code",
   "execution_count": 10,
   "metadata": {
    "id": "TNc9qt4os5AT"
   },
   "outputs": [
    {
     "name": "stdout",
     "output_type": "stream",
     "text": [
      "Cantidad de docs en el corpus: 1846\n"
     ]
    }
   ],
   "source": [
    "# Cantidad de filas/docs encontradas en el corpus\n",
    "print(\"Cantidad de docs en el corpus:\", w2v_model.corpus_count)"
   ]
  },
  {
   "cell_type": "code",
   "execution_count": 11,
   "metadata": {
    "id": "idw9cHF3tSMl"
   },
   "outputs": [
    {
     "name": "stdout",
     "output_type": "stream",
     "text": [
      "Cantidad de words distintas en el corpus: 445\n"
     ]
    }
   ],
   "source": [
    "# Cantidad de words encontradas en el corpus\n",
    "print(\"Cantidad de words distintas en el corpus:\", len(w2v_model.wv.index_to_key))"
   ]
  },
  {
   "cell_type": "markdown",
   "metadata": {
    "id": "fC9mZ8DPk-UC"
   },
   "source": [
    "### 3 - Entrenar embeddings"
   ]
  },
  {
   "cell_type": "code",
   "execution_count": 12,
   "metadata": {
    "id": "QSp-x0PAsq56"
   },
   "outputs": [
    {
     "name": "stdout",
     "output_type": "stream",
     "text": [
      "Loss after epoch 0: 108762.3046875\n",
      "Loss after epoch 1: 65536.0546875\n",
      "Loss after epoch 2: 65764.6875\n",
      "Loss after epoch 3: 65382.734375\n",
      "Loss after epoch 4: 63376.90625\n",
      "Loss after epoch 5: 63168.875\n",
      "Loss after epoch 6: 62341.3125\n",
      "Loss after epoch 7: 62222.5\n",
      "Loss after epoch 8: 59677.75\n",
      "Loss after epoch 9: 57449.0625\n",
      "Loss after epoch 10: 56911.5625\n",
      "Loss after epoch 11: 56068.75\n",
      "Loss after epoch 12: 54925.875\n",
      "Loss after epoch 13: 53780.625\n",
      "Loss after epoch 14: 53130.4375\n",
      "Loss after epoch 15: 53233.6875\n",
      "Loss after epoch 16: 52228.75\n",
      "Loss after epoch 17: 47708.5\n",
      "Loss after epoch 18: 47391.625\n",
      "Loss after epoch 19: 46832.75\n"
     ]
    },
    {
     "data": {
      "text/plain": [
       "(156986, 287740)"
      ]
     },
     "execution_count": 12,
     "metadata": {},
     "output_type": "execute_result"
    }
   ],
   "source": [
    "# Entrenamos el modelo generador de vectores\n",
    "# Utilizamos nuestro callback\n",
    "w2v_model.train(sentence_tokens,\n",
    "                 total_examples=w2v_model.corpus_count,\n",
    "                 epochs=20,\n",
    "                 compute_loss = True,\n",
    "                 callbacks=[callback()]\n",
    "                 )"
   ]
  },
  {
   "cell_type": "markdown",
   "metadata": {
    "id": "ddT9NVuNlCAe"
   },
   "source": [
    "### 4 - Ensayar"
   ]
  },
  {
   "cell_type": "code",
   "execution_count": 13,
   "metadata": {
    "id": "6cHN9xGLuPEm"
   },
   "outputs": [
    {
     "data": {
      "text/plain": [
       "[('sleep', 0.840125322341919),\n",
       " ('pretty', 0.8363893628120422),\n",
       " ('cry', 0.8120163083076477),\n",
       " ('seems', 0.7844411134719849),\n",
       " ('help', 0.7741866111755371),\n",
       " ('do', 0.7473866939544678),\n",
       " ('oh', 0.734216034412384),\n",
       " ('high', 0.7296016216278076),\n",
       " ('peace', 0.7280288934707642),\n",
       " ('try', 0.7220621109008789)]"
      ]
     },
     "execution_count": 13,
     "metadata": {},
     "output_type": "execute_result"
    }
   ],
   "source": [
    "# Palabras que MÁS se relacionan con...:\n",
    "w2v_model.wv.most_similar(positive=[\"darling\"], topn=10)"
   ]
  },
  {
   "cell_type": "code",
   "execution_count": 14,
   "metadata": {
    "id": "47HiU5gdkdMq"
   },
   "outputs": [
    {
     "data": {
      "text/plain": [
       "[('our', -0.17201298475265503),\n",
       " ('shake', -0.181864932179451),\n",
       " ('six', -0.20115654170513153),\n",
       " ('yellow', -0.2037947028875351),\n",
       " ('four', -0.2073374092578888),\n",
       " ('five', -0.21242646872997284),\n",
       " ('seven', -0.22835353016853333),\n",
       " ('work', -0.23679497838020325),\n",
       " ('baby', -0.2485644668340683),\n",
       " ('going', -0.2526545822620392)]"
      ]
     },
     "execution_count": 14,
     "metadata": {},
     "output_type": "execute_result"
    }
   ],
   "source": [
    "# Palabras que MENOS se relacionan con...:\n",
    "w2v_model.wv.most_similar(negative=[\"love\"], topn=10)"
   ]
  },
  {
   "cell_type": "code",
   "execution_count": 15,
   "metadata": {
    "id": "DT4Rvno2mD65"
   },
   "outputs": [
    {
     "data": {
      "text/plain": [
       "[('five', 0.9642793536186218),\n",
       " ('three', 0.9451873302459717),\n",
       " ('seven', 0.9446370601654053),\n",
       " ('six', 0.9436722993850708),\n",
       " ('two', 0.9358287453651428),\n",
       " ('sixty', 0.9028005003929138),\n",
       " ('us', 0.7871828079223633),\n",
       " ('crying', 0.7871068120002747),\n",
       " ('said', 0.7658377885818481),\n",
       " ('each', 0.7559351325035095)]"
      ]
     },
     "execution_count": 15,
     "metadata": {},
     "output_type": "execute_result"
    }
   ],
   "source": [
    "# Palabras que MÁS se relacionan con...:\n",
    "w2v_model.wv.most_similar(positive=[\"four\"], topn=10)"
   ]
  },
  {
   "cell_type": "code",
   "execution_count": 16,
   "metadata": {
    "id": "XPLDPgzBmQXt"
   },
   "outputs": [
    {
     "data": {
      "text/plain": [
       "[(\"can't\", 0.9205241799354553),\n",
       " ('buy', 0.9110379815101624),\n",
       " ('much', 0.8718225359916687),\n",
       " ('hide', 0.8277009725570679),\n",
       " ('just', 0.810702919960022)]"
      ]
     },
     "execution_count": 16,
     "metadata": {},
     "output_type": "execute_result"
    }
   ],
   "source": [
    "# Palabras que MÁS se relacionan con...:\n",
    "w2v_model.wv.most_similar(positive=[\"money\"], topn=5)"
   ]
  },
  {
   "cell_type": "code",
   "execution_count": 17,
   "metadata": {
    "id": "L_UvHPMMklOr"
   },
   "outputs": [
    {
     "ename": "KeyError",
     "evalue": "\"Key 'diedaa' not present in vocabulary\"",
     "output_type": "error",
     "traceback": [
      "\u001b[1;31m---------------------------------------------------------------------------\u001b[0m",
      "\u001b[1;31mKeyError\u001b[0m                                  Traceback (most recent call last)",
      "Cell \u001b[1;32mIn[17], line 2\u001b[0m\n\u001b[0;32m      1\u001b[0m \u001b[38;5;66;03m# Ensayar con una palabra que no está en el vocabulario:\u001b[39;00m\n\u001b[1;32m----> 2\u001b[0m \u001b[43mw2v_model\u001b[49m\u001b[38;5;241;43m.\u001b[39;49m\u001b[43mwv\u001b[49m\u001b[38;5;241;43m.\u001b[39;49m\u001b[43mmost_similar\u001b[49m\u001b[43m(\u001b[49m\u001b[43mnegative\u001b[49m\u001b[38;5;241;43m=\u001b[39;49m\u001b[43m[\u001b[49m\u001b[38;5;124;43m\"\u001b[39;49m\u001b[38;5;124;43mdiedaa\u001b[39;49m\u001b[38;5;124;43m\"\u001b[39;49m\u001b[43m]\u001b[49m\u001b[43m)\u001b[49m\n",
      "File \u001b[1;32mc:\\Users\\usuario\\.virtualenvs\\CEIA_pln-ttAQ7Bhm\\Lib\\site-packages\\gensim\\models\\keyedvectors.py:841\u001b[0m, in \u001b[0;36mKeyedVectors.most_similar\u001b[1;34m(self, positive, negative, topn, clip_start, clip_end, restrict_vocab, indexer)\u001b[0m\n\u001b[0;32m    838\u001b[0m         weight[idx] \u001b[38;5;241m=\u001b[39m item[\u001b[38;5;241m1\u001b[39m]\n\u001b[0;32m    840\u001b[0m \u001b[38;5;66;03m# compute the weighted average of all keys\u001b[39;00m\n\u001b[1;32m--> 841\u001b[0m mean \u001b[38;5;241m=\u001b[39m \u001b[38;5;28;43mself\u001b[39;49m\u001b[38;5;241;43m.\u001b[39;49m\u001b[43mget_mean_vector\u001b[49m\u001b[43m(\u001b[49m\u001b[43mkeys\u001b[49m\u001b[43m,\u001b[49m\u001b[43m \u001b[49m\u001b[43mweight\u001b[49m\u001b[43m,\u001b[49m\u001b[43m \u001b[49m\u001b[43mpre_normalize\u001b[49m\u001b[38;5;241;43m=\u001b[39;49m\u001b[38;5;28;43;01mTrue\u001b[39;49;00m\u001b[43m,\u001b[49m\u001b[43m \u001b[49m\u001b[43mpost_normalize\u001b[49m\u001b[38;5;241;43m=\u001b[39;49m\u001b[38;5;28;43;01mTrue\u001b[39;49;00m\u001b[43m,\u001b[49m\u001b[43m \u001b[49m\u001b[43mignore_missing\u001b[49m\u001b[38;5;241;43m=\u001b[39;49m\u001b[38;5;28;43;01mFalse\u001b[39;49;00m\u001b[43m)\u001b[49m\n\u001b[0;32m    842\u001b[0m all_keys \u001b[38;5;241m=\u001b[39m [\n\u001b[0;32m    843\u001b[0m     \u001b[38;5;28mself\u001b[39m\u001b[38;5;241m.\u001b[39mget_index(key) \u001b[38;5;28;01mfor\u001b[39;00m key \u001b[38;5;129;01min\u001b[39;00m keys \u001b[38;5;28;01mif\u001b[39;00m \u001b[38;5;28misinstance\u001b[39m(key, _KEY_TYPES) \u001b[38;5;129;01mand\u001b[39;00m \u001b[38;5;28mself\u001b[39m\u001b[38;5;241m.\u001b[39mhas_index_for(key)\n\u001b[0;32m    844\u001b[0m ]\n\u001b[0;32m    846\u001b[0m \u001b[38;5;28;01mif\u001b[39;00m indexer \u001b[38;5;129;01mis\u001b[39;00m \u001b[38;5;129;01mnot\u001b[39;00m \u001b[38;5;28;01mNone\u001b[39;00m \u001b[38;5;129;01mand\u001b[39;00m \u001b[38;5;28misinstance\u001b[39m(topn, \u001b[38;5;28mint\u001b[39m):\n",
      "File \u001b[1;32mc:\\Users\\usuario\\.virtualenvs\\CEIA_pln-ttAQ7Bhm\\Lib\\site-packages\\gensim\\models\\keyedvectors.py:518\u001b[0m, in \u001b[0;36mKeyedVectors.get_mean_vector\u001b[1;34m(self, keys, weights, pre_normalize, post_normalize, ignore_missing)\u001b[0m\n\u001b[0;32m    516\u001b[0m         total_weight \u001b[38;5;241m+\u001b[39m\u001b[38;5;241m=\u001b[39m \u001b[38;5;28mabs\u001b[39m(weights[idx])\n\u001b[0;32m    517\u001b[0m     \u001b[38;5;28;01melif\u001b[39;00m \u001b[38;5;129;01mnot\u001b[39;00m ignore_missing:\n\u001b[1;32m--> 518\u001b[0m         \u001b[38;5;28;01mraise\u001b[39;00m \u001b[38;5;167;01mKeyError\u001b[39;00m(\u001b[38;5;124mf\u001b[39m\u001b[38;5;124m\"\u001b[39m\u001b[38;5;124mKey \u001b[39m\u001b[38;5;124m'\u001b[39m\u001b[38;5;132;01m{\u001b[39;00mkey\u001b[38;5;132;01m}\u001b[39;00m\u001b[38;5;124m'\u001b[39m\u001b[38;5;124m not present in vocabulary\u001b[39m\u001b[38;5;124m\"\u001b[39m)\n\u001b[0;32m    520\u001b[0m \u001b[38;5;28;01mif\u001b[39;00m total_weight \u001b[38;5;241m>\u001b[39m \u001b[38;5;241m0\u001b[39m:\n\u001b[0;32m    521\u001b[0m     mean \u001b[38;5;241m=\u001b[39m mean \u001b[38;5;241m/\u001b[39m total_weight\n",
      "\u001b[1;31mKeyError\u001b[0m: \"Key 'diedaa' not present in vocabulary\""
     ]
    }
   ],
   "source": [
    "# Ensayar con una palabra que no está en el vocabulario:\n",
    "w2v_model.wv.most_similar(negative=[\"diedaa\"])"
   ]
  },
  {
   "cell_type": "code",
   "execution_count": 18,
   "metadata": {},
   "outputs": [
    {
     "name": "stdout",
     "output_type": "stream",
     "text": [
      "[ 0.32544598  0.62910974 -0.20950606 -0.3848609  -0.44128808 -0.32321727\n",
      "  0.8101613   0.46863794 -0.745866   -0.10273854  0.26681593 -0.83493966\n",
      "  0.76483226  0.27383453 -0.52410686  0.59179413  0.22701955  0.27971926\n",
      " -0.73931557 -0.3853295   0.47279572  0.25792563  0.898064    0.24473208\n",
      " -0.33784464  0.02560429  0.36900985 -0.05037174 -0.27353403 -0.10801231\n",
      " -0.5588118  -0.34851873 -0.38177413 -0.6244563   0.12035489 -0.48409218\n",
      "  0.7540877   0.04570149  0.4031569  -0.1824202   0.21544878  0.1782253\n",
      "  0.22774968 -0.3037861   0.2668184   0.02464673  0.28484452  0.24105422\n",
      "  0.5536561   0.16217443]\n"
     ]
    }
   ],
   "source": [
    "# el método `get_vector` permite obtener los vectores:\n",
    "vector_love = w2v_model.wv.get_vector(\"love\")\n",
    "print(vector_love)"
   ]
  },
  {
   "cell_type": "code",
   "execution_count": 19,
   "metadata": {},
   "outputs": [
    {
     "data": {
      "text/plain": [
       "[('love', 1.0),\n",
       " ('babe', 0.9090447425842285),\n",
       " ('someone', 0.8905414938926697),\n",
       " (\"didn't\", 0.8402394652366638),\n",
       " ('need', 0.8379504680633545),\n",
       " (\"there's\", 0.8312346339225769),\n",
       " ('hope', 0.8263214230537415),\n",
       " ('somebody', 0.8244156837463379),\n",
       " ('nothing', 0.8202620148658752),\n",
       " ('buy', 0.8189709186553955)]"
      ]
     },
     "execution_count": 19,
     "metadata": {},
     "output_type": "execute_result"
    }
   ],
   "source": [
    "# el método `most_similar` también permite comparar a partir de vectores\n",
    "w2v_model.wv.most_similar(vector_love)"
   ]
  },
  {
   "cell_type": "code",
   "execution_count": 20,
   "metadata": {},
   "outputs": [
    {
     "data": {
      "text/plain": [
       "[('babe', 0.9090447425842285),\n",
       " ('someone', 0.8905414938926697),\n",
       " (\"didn't\", 0.8402395248413086),\n",
       " ('need', 0.8379504680633545),\n",
       " (\"there's\", 0.8312346339225769),\n",
       " ('hope', 0.8263214230537415),\n",
       " ('somebody', 0.8244156837463379),\n",
       " ('nothing', 0.8202620148658752),\n",
       " ('buy', 0.8189709186553955),\n",
       " ('whoa', 0.8157616853713989)]"
      ]
     },
     "execution_count": 20,
     "metadata": {},
     "output_type": "execute_result"
    }
   ],
   "source": [
    "# Palabras que MÁS se relacionan con...:\n",
    "w2v_model.wv.most_similar(positive=[\"love\"], topn=10)"
   ]
  },
  {
   "cell_type": "markdown",
   "metadata": {
    "id": "_g8UVWe6lFmh"
   },
   "source": [
    "### 5 - Visualizar agrupación de vectores"
   ]
  },
  {
   "cell_type": "code",
   "execution_count": 21,
   "metadata": {
    "id": "pDxEVXAivjr9"
   },
   "outputs": [],
   "source": [
    "from sklearn.decomposition import IncrementalPCA    \n",
    "from sklearn.manifold import TSNE                   \n",
    "import numpy as np                                  \n",
    "\n",
    "def reduce_dimensions(model, num_dimensions = 2 ):\n",
    "     \n",
    "    vectors = np.asarray(model.wv.vectors)\n",
    "    labels = np.asarray(model.wv.index_to_key)  \n",
    "\n",
    "    tsne = TSNE(n_components=num_dimensions, random_state=0)\n",
    "    vectors = tsne.fit_transform(vectors)\n",
    "\n",
    "    return vectors, labels"
   ]
  },
  {
   "cell_type": "code",
   "execution_count": 23,
   "metadata": {
    "id": "NCCXtDpcugmd"
   },
   "outputs": [
    {
     "data": {
      "application/vnd.plotly.v1+json": {
       "config": {
        "plotlyServerURL": "https://plot.ly"
       },
       "data": [
        {
         "hovertemplate": "x=%{x}<br>y=%{y}<br>text=%{text}<extra></extra>",
         "legendgroup": "",
         "marker": {
          "color": "#636efa",
          "symbol": "circle"
         },
         "mode": "markers+text",
         "name": "",
         "orientation": "v",
         "showlegend": false,
         "text": [
          "you",
          "i",
          "the",
          "to",
          "and",
          "love",
          "a",
          "me",
          "in",
          "all",
          "nah",
          "my",
          "it",
          "know",
          "that",
          "be",
          "on",
          "of",
          "she",
          "is",
          "say",
          "now",
          "oh",
          "your",
          "yeah",
          "get",
          "don't",
          "back",
          "with",
          "let",
          "her",
          "can",
          "it's",
          "do",
          "when",
          "come",
          "i'm",
          "will",
          "he",
          "but",
          "for",
          "so",
          "there",
          "need",
          "like",
          "together",
          "no",
          "i'll",
          "see",
          "we",
          "was",
          "never",
          "down",
          "if",
          "way",
          "want",
          "hey",
          "out",
          "one",
          "got",
          "can't",
          "girl",
          "well",
          "good",
          "go",
          "sun",
          "his",
          "hello",
          "home",
          "they",
          "day",
          "are",
          "ah",
          "right",
          "from",
          "little",
          "at",
          "man",
          "help",
          "here",
          "have",
          "gonna",
          "not",
          "world",
          "what",
          "going",
          "how",
          "please",
          "still",
          "too",
          "just",
          "you're",
          "time",
          "as",
          "make",
          "long",
          "yes",
          "yellow",
          "life",
          "once",
          "sky",
          "been",
          "think",
          "tell",
          "why",
          "only",
          "where",
          "people",
          "she's",
          "eyes",
          "jude",
          "take",
          "submarine",
          "up",
          "hold",
          "goodbye",
          "give",
          "nowhere",
          "sing",
          "look",
          "friends",
          "always",
          "hand",
          "boy",
          "we're",
          "am",
          "away",
          "darling",
          "goo",
          "nothing",
          "should",
          "lonely",
          "could",
          "feel",
          "some",
          "night",
          "comes",
          "had",
          "would",
          "better",
          "head",
          "them",
          "four",
          "buy",
          "more",
          "i've",
          "la",
          "mind",
          "two",
          "this",
          "everything",
          "carry",
          "by",
          "our",
          "sunshine",
          "weight",
          "change",
          "us",
          "lucy",
          "birthday",
          "an",
          "true",
          "you'll",
          "every",
          "pretty",
          "three",
          "diamonds",
          "before",
          "believe",
          "these",
          "i'd",
          "words",
          "mm",
          "work",
          "dear",
          "leave",
          "were",
          "mine",
          "there's",
          "nobody",
          "told",
          "money",
          "bom",
          "said",
          "forever",
          "round",
          "children",
          "'cause",
          "something",
          "about",
          "waiting",
          "standing",
          "who",
          "didn't",
          "try",
          "loves",
          "then",
          "hide",
          "saw",
          "prudence"
         ],
         "type": "scatter",
         "x": [
          20.77726173400879,
          18.573556900024414,
          -12.253498077392578,
          9.809670448303223,
          0.17459379136562347,
          18.74580955505371,
          -0.9235348701477051,
          19.637083053588867,
          -13.901572227478027,
          -16.47117805480957,
          8.21020793914795,
          8.689762115478516,
          -9.27724552154541,
          13.540136337280273,
          14.925786972045898,
          4.937965393066406,
          -13.977166175842285,
          -11.240572929382324,
          8.502312660217285,
          -10.673723220825195,
          15.922980308532715,
          -16.3680477142334,
          16.51811981201172,
          23.23862075805664,
          10.382654190063477,
          -1.9903661012649536,
          12.945507049560547,
          -1.9480862617492676,
          -13.592530250549316,
          3.105323553085327,
          -0.05519363284111023,
          11.999799728393555,
          9.225716590881348,
          15.424294471740723,
          -0.25334516167640686,
          -14.15562915802002,
          -3.5794806480407715,
          21.151718139648438,
          6.653162479400635,
          11.272943496704102,
          -5.222256660461426,
          11.253081321716309,
          -7.763187885284424,
          19.674869537353516,
          12.250163078308105,
          -16.0936279296875,
          16.49454689025879,
          5.763576984405518,
          13.60068130493164,
          -20.52667236328125,
          -7.503662109375,
          15.331805229187012,
          1.5571576356887817,
          14.618593215942383,
          -4.675796031951904,
          22.525463104248047,
          8.456464767456055,
          -11.490761756896973,
          -9.837371826171875,
          14.988812446594238,
          24.892648696899414,
          -10.94625186920166,
          -7.376519203186035,
          -22.90627670288086,
          -23.077552795410156,
          -22.55821418762207,
          -15.027793884277344,
          16.335174560546875,
          -2.0936479568481445,
          8.637395858764648,
          -22.798446655273438,
          4.897873401641846,
          11.25018310546875,
          -16.915437698364258,
          5.85778284072876,
          5.004159450531006,
          -8.19253921508789,
          -7.449665069580078,
          6.672906398773193,
          -22.566394805908203,
          3.4148473739624023,
          14.864058494567871,
          7.323174953460693,
          13.094988822937012,
          13.754979133605957,
          0.8147674202919006,
          9.287388801574707,
          12.679570198059082,
          20.971885681152344,
          17.083221435546875,
          14.985909461975098,
          16.05805206298828,
          16.723508834838867,
          5.911606788635254,
          5.123795032501221,
          16.710763931274414,
          22.764305114746094,
          -22.295162200927734,
          -3.539809226989746,
          -4.649930953979492,
          -14.986222267150879,
          -3.3903157711029053,
          14.270801544189453,
          18.51857566833496,
          14.887117385864258,
          3.877023696899414,
          -3.623098134994507,
          -17.429847717285156,
          -3.323247194290161,
          -14.433088302612305,
          8.46021556854248,
          2.1906492710113525,
          -22.30900001525879,
          -12.558119773864746,
          23.681167602539062,
          16.206201553344727,
          15.47281551361084,
          -15.236583709716797,
          21.288368225097656,
          -8.149283409118652,
          6.491021156311035,
          5.797675132751465,
          23.264854431152344,
          16.074060440063477,
          -6.6181135177612305,
          22.579862594604492,
          3.6672186851501465,
          3.7660059928894043,
          5.423252105712891,
          17.252315521240234,
          10.034391403198242,
          -18.664445877075195,
          12.4996337890625,
          11.263663291931152,
          -4.6769490242004395,
          -12.221268653869629,
          -22.55514144897461,
          0.4841177463531494,
          11.541975975036621,
          5.352331161499023,
          -14.570274353027344,
          -4.875752925872803,
          -10.689258575439453,
          24.716703414916992,
          8.568717002868652,
          12.950109481811523,
          -7.989465236663818,
          7.062026023864746,
          -10.34465217590332,
          -4.9841532707214355,
          13.1550931930542,
          16.037555694580078,
          -4.030136585235596,
          -5.319871425628662,
          -22.836538314819336,
          16.2393741607666,
          14.312352180480957,
          -13.4426908493042,
          -14.381266593933105,
          9.529895782470703,
          -18.368921279907227,
          5.425768852233887,
          12.526927947998047,
          -14.51254940032959,
          3.1274471282958984,
          -10.465118408203125,
          -14.2472562789917,
          15.921174049377441,
          17.216856002807617,
          -6.8981032371521,
          12.542244911193848,
          1.6231697797775269,
          -4.964774131774902,
          -11.382207870483398,
          -12.843098640441895,
          8.18867301940918,
          2.772094488143921,
          -3.641176700592041,
          17.96149444580078,
          2.674201011657715,
          17.799068450927734,
          24.927629470825195,
          11.27508544921875,
          5.090429782867432,
          2.7774009704589844,
          -5.881188869476318,
          -23.02895164489746,
          -2.6978702545166016,
          0.897459089756012,
          11.457952499389648,
          -5.756929874420166,
          -0.9691746830940247,
          -9.55269718170166,
          18.624061584472656,
          -1.292443037033081,
          10.13825798034668,
          -8.194032669067383,
          15.087897300720215,
          0.3008781373500824,
          -12.839927673339844
         ],
         "xaxis": "x",
         "y": [
          7.019566535949707,
          10.487221717834473,
          -5.580256938934326,
          -0.41592293977737427,
          4.743232250213623,
          4.273725986480713,
          -7.6874470710754395,
          8.232242584228516,
          -6.889654159545898,
          10.144763946533203,
          21.37404441833496,
          -12.654120445251465,
          11.164429664611816,
          13.556325912475586,
          -7.050335884094238,
          13.792060852050781,
          6.490084648132324,
          -1.5221513509750366,
          -3.890573263168335,
          -10.056540489196777,
          14.615509986877441,
          10.0724458694458,
          9.624242782592773,
          11.105791091918945,
          -4.335992336273193,
          -19.82408905029297,
          14.539640426635742,
          -18.929109573364258,
          -9.294189453125,
          15.052765846252441,
          8.399381637573242,
          4.209583759307861,
          9.840620994567871,
          8.437979698181152,
          17.174161911010742,
          7.360048770904541,
          17.352209091186523,
          1.9684704542160034,
          1.914528489112854,
          3.1261446475982666,
          2.010607957839966,
          10.146932601928711,
          -20.787073135375977,
          4.973953723907471,
          -2.4100801944732666,
          8.638697624206543,
          11.40894889831543,
          10.485078811645508,
          5.043886184692383,
          -6.412117958068848,
          -20.49532699584961,
          11.270315170288086,
          14.636587142944336,
          6.815530776977539,
          -17.982393264770508,
          10.592818260192871,
          20.587778091430664,
          8.224830627441406,
          16.774093627929688,
          1.8505127429962158,
          3.4794774055480957,
          0.7789313793182373,
          11.751938819885254,
          5.932804107666016,
          8.069620132446289,
          -12.362500190734863,
          -4.31154203414917,
          15.933357238769531,
          -18.204914093017578,
          2.171680450439453,
          5.0998921394348145,
          -7.6470947265625,
          -6.8075079917907715,
          8.858831405639648,
          -14.554354667663574,
          -15.19566822052002,
          6.760623455047607,
          1.5479228496551514,
          -15.285787582397461,
          -12.359298706054688,
          -9.646409034729004,
          -10.912959098815918,
          8.59085750579834,
          -12.738446235656738,
          12.547715187072754,
          -13.84479808807373,
          4.851015567779541,
          -3.638117790222168,
          4.535151481628418,
          -5.181896209716797,
          1.3087562322616577,
          -11.826355934143066,
          -6.528714656829834,
          -6.136836528778076,
          15.984942436218262,
          -8.083518028259277,
          -4.8300557136535645,
          -6.363607883453369,
          10.690888404846191,
          -20.775447845458984,
          -9.160528182983398,
          1.2846038341522217,
          10.575648307800293,
          7.189883232116699,
          15.126260757446289,
          -4.870508670806885,
          -20.56098175048828,
          2.685790777206421,
          7.246850967407227,
          -6.019686222076416,
          20.49216651916504,
          13.987021446228027,
          -6.359497547149658,
          5.981522560119629,
          10.254426956176758,
          15.780341148376465,
          4.620693683624268,
          -2.9431989192962646,
          0.3853892385959625,
          6.7505059242248535,
          -14.712316513061523,
          12.214398384094238,
          10.92482852935791,
          -11.749800682067871,
          -15.654804229736328,
          -4.613752365112305,
          6.033449172973633,
          -18.336448669433594,
          -23.348697662353516,
          4.173200607299805,
          13.267362594604492,
          2.3666272163391113,
          11.761879920959473,
          8.373469352722168,
          -5.888360023498535,
          -0.1915440857410431,
          -12.359929084777832,
          -9.403904914855957,
          5.510829448699951,
          16.431913375854492,
          -5.194238662719727,
          5.378449440002441,
          18.887840270996094,
          3.6030638217926025,
          16.699935913085938,
          0.6423337459564209,
          -12.219926834106445,
          -13.080950736999512,
          17.916414260864258,
          0.7075774669647217,
          2.5242373943328857,
          -10.264293670654297,
          -10.347515106201172,
          -17.3331241607666,
          5.401511192321777,
          -9.69058609008789,
          -12.241190910339355,
          0.8017847537994385,
          -9.063032150268555,
          9.181879043579102,
          -9.525968551635742,
          12.252098083496094,
          9.410037994384766,
          -0.729823112487793,
          -17.65067481994629,
          18.163808822631836,
          -9.172640800476074,
          -6.214113712310791,
          8.487666130065918,
          -5.1056318283081055,
          -0.9341853857040405,
          11.887839317321777,
          -13.194300651550293,
          8.457855224609375,
          11.389522552490234,
          11.472328186035156,
          -4.277495861053467,
          3.6708123683929443,
          1.4137042760849,
          0.554012656211853,
          7.926965236663818,
          3.4096736907958984,
          -18.936859130859375,
          -6.652017593383789,
          -11.472572326660156,
          9.138916969299316,
          7.469456672668457,
          16.90311050415039,
          -1.9795619249343872,
          1.7073867321014404,
          1.0414793491363525,
          7.753096580505371,
          -0.3800874948501587,
          6.432923793792725,
          -12.531084060668945,
          -4.2491960525512695,
          -19.222370147705078,
          3.1814029216766357,
          7.520699977874756,
          11.397518157958984
         ],
         "yaxis": "y"
        }
       ],
       "layout": {
        "legend": {
         "tracegroupgap": 0
        },
        "margin": {
         "t": 60
        },
        "template": {
         "data": {
          "bar": [
           {
            "error_x": {
             "color": "#2a3f5f"
            },
            "error_y": {
             "color": "#2a3f5f"
            },
            "marker": {
             "line": {
              "color": "#E5ECF6",
              "width": 0.5
             },
             "pattern": {
              "fillmode": "overlay",
              "size": 10,
              "solidity": 0.2
             }
            },
            "type": "bar"
           }
          ],
          "barpolar": [
           {
            "marker": {
             "line": {
              "color": "#E5ECF6",
              "width": 0.5
             },
             "pattern": {
              "fillmode": "overlay",
              "size": 10,
              "solidity": 0.2
             }
            },
            "type": "barpolar"
           }
          ],
          "carpet": [
           {
            "aaxis": {
             "endlinecolor": "#2a3f5f",
             "gridcolor": "white",
             "linecolor": "white",
             "minorgridcolor": "white",
             "startlinecolor": "#2a3f5f"
            },
            "baxis": {
             "endlinecolor": "#2a3f5f",
             "gridcolor": "white",
             "linecolor": "white",
             "minorgridcolor": "white",
             "startlinecolor": "#2a3f5f"
            },
            "type": "carpet"
           }
          ],
          "choropleth": [
           {
            "colorbar": {
             "outlinewidth": 0,
             "ticks": ""
            },
            "type": "choropleth"
           }
          ],
          "contour": [
           {
            "colorbar": {
             "outlinewidth": 0,
             "ticks": ""
            },
            "colorscale": [
             [
              0,
              "#0d0887"
             ],
             [
              0.1111111111111111,
              "#46039f"
             ],
             [
              0.2222222222222222,
              "#7201a8"
             ],
             [
              0.3333333333333333,
              "#9c179e"
             ],
             [
              0.4444444444444444,
              "#bd3786"
             ],
             [
              0.5555555555555556,
              "#d8576b"
             ],
             [
              0.6666666666666666,
              "#ed7953"
             ],
             [
              0.7777777777777778,
              "#fb9f3a"
             ],
             [
              0.8888888888888888,
              "#fdca26"
             ],
             [
              1,
              "#f0f921"
             ]
            ],
            "type": "contour"
           }
          ],
          "contourcarpet": [
           {
            "colorbar": {
             "outlinewidth": 0,
             "ticks": ""
            },
            "type": "contourcarpet"
           }
          ],
          "heatmap": [
           {
            "colorbar": {
             "outlinewidth": 0,
             "ticks": ""
            },
            "colorscale": [
             [
              0,
              "#0d0887"
             ],
             [
              0.1111111111111111,
              "#46039f"
             ],
             [
              0.2222222222222222,
              "#7201a8"
             ],
             [
              0.3333333333333333,
              "#9c179e"
             ],
             [
              0.4444444444444444,
              "#bd3786"
             ],
             [
              0.5555555555555556,
              "#d8576b"
             ],
             [
              0.6666666666666666,
              "#ed7953"
             ],
             [
              0.7777777777777778,
              "#fb9f3a"
             ],
             [
              0.8888888888888888,
              "#fdca26"
             ],
             [
              1,
              "#f0f921"
             ]
            ],
            "type": "heatmap"
           }
          ],
          "heatmapgl": [
           {
            "colorbar": {
             "outlinewidth": 0,
             "ticks": ""
            },
            "colorscale": [
             [
              0,
              "#0d0887"
             ],
             [
              0.1111111111111111,
              "#46039f"
             ],
             [
              0.2222222222222222,
              "#7201a8"
             ],
             [
              0.3333333333333333,
              "#9c179e"
             ],
             [
              0.4444444444444444,
              "#bd3786"
             ],
             [
              0.5555555555555556,
              "#d8576b"
             ],
             [
              0.6666666666666666,
              "#ed7953"
             ],
             [
              0.7777777777777778,
              "#fb9f3a"
             ],
             [
              0.8888888888888888,
              "#fdca26"
             ],
             [
              1,
              "#f0f921"
             ]
            ],
            "type": "heatmapgl"
           }
          ],
          "histogram": [
           {
            "marker": {
             "pattern": {
              "fillmode": "overlay",
              "size": 10,
              "solidity": 0.2
             }
            },
            "type": "histogram"
           }
          ],
          "histogram2d": [
           {
            "colorbar": {
             "outlinewidth": 0,
             "ticks": ""
            },
            "colorscale": [
             [
              0,
              "#0d0887"
             ],
             [
              0.1111111111111111,
              "#46039f"
             ],
             [
              0.2222222222222222,
              "#7201a8"
             ],
             [
              0.3333333333333333,
              "#9c179e"
             ],
             [
              0.4444444444444444,
              "#bd3786"
             ],
             [
              0.5555555555555556,
              "#d8576b"
             ],
             [
              0.6666666666666666,
              "#ed7953"
             ],
             [
              0.7777777777777778,
              "#fb9f3a"
             ],
             [
              0.8888888888888888,
              "#fdca26"
             ],
             [
              1,
              "#f0f921"
             ]
            ],
            "type": "histogram2d"
           }
          ],
          "histogram2dcontour": [
           {
            "colorbar": {
             "outlinewidth": 0,
             "ticks": ""
            },
            "colorscale": [
             [
              0,
              "#0d0887"
             ],
             [
              0.1111111111111111,
              "#46039f"
             ],
             [
              0.2222222222222222,
              "#7201a8"
             ],
             [
              0.3333333333333333,
              "#9c179e"
             ],
             [
              0.4444444444444444,
              "#bd3786"
             ],
             [
              0.5555555555555556,
              "#d8576b"
             ],
             [
              0.6666666666666666,
              "#ed7953"
             ],
             [
              0.7777777777777778,
              "#fb9f3a"
             ],
             [
              0.8888888888888888,
              "#fdca26"
             ],
             [
              1,
              "#f0f921"
             ]
            ],
            "type": "histogram2dcontour"
           }
          ],
          "mesh3d": [
           {
            "colorbar": {
             "outlinewidth": 0,
             "ticks": ""
            },
            "type": "mesh3d"
           }
          ],
          "parcoords": [
           {
            "line": {
             "colorbar": {
              "outlinewidth": 0,
              "ticks": ""
             }
            },
            "type": "parcoords"
           }
          ],
          "pie": [
           {
            "automargin": true,
            "type": "pie"
           }
          ],
          "scatter": [
           {
            "fillpattern": {
             "fillmode": "overlay",
             "size": 10,
             "solidity": 0.2
            },
            "type": "scatter"
           }
          ],
          "scatter3d": [
           {
            "line": {
             "colorbar": {
              "outlinewidth": 0,
              "ticks": ""
             }
            },
            "marker": {
             "colorbar": {
              "outlinewidth": 0,
              "ticks": ""
             }
            },
            "type": "scatter3d"
           }
          ],
          "scattercarpet": [
           {
            "marker": {
             "colorbar": {
              "outlinewidth": 0,
              "ticks": ""
             }
            },
            "type": "scattercarpet"
           }
          ],
          "scattergeo": [
           {
            "marker": {
             "colorbar": {
              "outlinewidth": 0,
              "ticks": ""
             }
            },
            "type": "scattergeo"
           }
          ],
          "scattergl": [
           {
            "marker": {
             "colorbar": {
              "outlinewidth": 0,
              "ticks": ""
             }
            },
            "type": "scattergl"
           }
          ],
          "scattermapbox": [
           {
            "marker": {
             "colorbar": {
              "outlinewidth": 0,
              "ticks": ""
             }
            },
            "type": "scattermapbox"
           }
          ],
          "scatterpolar": [
           {
            "marker": {
             "colorbar": {
              "outlinewidth": 0,
              "ticks": ""
             }
            },
            "type": "scatterpolar"
           }
          ],
          "scatterpolargl": [
           {
            "marker": {
             "colorbar": {
              "outlinewidth": 0,
              "ticks": ""
             }
            },
            "type": "scatterpolargl"
           }
          ],
          "scatterternary": [
           {
            "marker": {
             "colorbar": {
              "outlinewidth": 0,
              "ticks": ""
             }
            },
            "type": "scatterternary"
           }
          ],
          "surface": [
           {
            "colorbar": {
             "outlinewidth": 0,
             "ticks": ""
            },
            "colorscale": [
             [
              0,
              "#0d0887"
             ],
             [
              0.1111111111111111,
              "#46039f"
             ],
             [
              0.2222222222222222,
              "#7201a8"
             ],
             [
              0.3333333333333333,
              "#9c179e"
             ],
             [
              0.4444444444444444,
              "#bd3786"
             ],
             [
              0.5555555555555556,
              "#d8576b"
             ],
             [
              0.6666666666666666,
              "#ed7953"
             ],
             [
              0.7777777777777778,
              "#fb9f3a"
             ],
             [
              0.8888888888888888,
              "#fdca26"
             ],
             [
              1,
              "#f0f921"
             ]
            ],
            "type": "surface"
           }
          ],
          "table": [
           {
            "cells": {
             "fill": {
              "color": "#EBF0F8"
             },
             "line": {
              "color": "white"
             }
            },
            "header": {
             "fill": {
              "color": "#C8D4E3"
             },
             "line": {
              "color": "white"
             }
            },
            "type": "table"
           }
          ]
         },
         "layout": {
          "annotationdefaults": {
           "arrowcolor": "#2a3f5f",
           "arrowhead": 0,
           "arrowwidth": 1
          },
          "autotypenumbers": "strict",
          "coloraxis": {
           "colorbar": {
            "outlinewidth": 0,
            "ticks": ""
           }
          },
          "colorscale": {
           "diverging": [
            [
             0,
             "#8e0152"
            ],
            [
             0.1,
             "#c51b7d"
            ],
            [
             0.2,
             "#de77ae"
            ],
            [
             0.3,
             "#f1b6da"
            ],
            [
             0.4,
             "#fde0ef"
            ],
            [
             0.5,
             "#f7f7f7"
            ],
            [
             0.6,
             "#e6f5d0"
            ],
            [
             0.7,
             "#b8e186"
            ],
            [
             0.8,
             "#7fbc41"
            ],
            [
             0.9,
             "#4d9221"
            ],
            [
             1,
             "#276419"
            ]
           ],
           "sequential": [
            [
             0,
             "#0d0887"
            ],
            [
             0.1111111111111111,
             "#46039f"
            ],
            [
             0.2222222222222222,
             "#7201a8"
            ],
            [
             0.3333333333333333,
             "#9c179e"
            ],
            [
             0.4444444444444444,
             "#bd3786"
            ],
            [
             0.5555555555555556,
             "#d8576b"
            ],
            [
             0.6666666666666666,
             "#ed7953"
            ],
            [
             0.7777777777777778,
             "#fb9f3a"
            ],
            [
             0.8888888888888888,
             "#fdca26"
            ],
            [
             1,
             "#f0f921"
            ]
           ],
           "sequentialminus": [
            [
             0,
             "#0d0887"
            ],
            [
             0.1111111111111111,
             "#46039f"
            ],
            [
             0.2222222222222222,
             "#7201a8"
            ],
            [
             0.3333333333333333,
             "#9c179e"
            ],
            [
             0.4444444444444444,
             "#bd3786"
            ],
            [
             0.5555555555555556,
             "#d8576b"
            ],
            [
             0.6666666666666666,
             "#ed7953"
            ],
            [
             0.7777777777777778,
             "#fb9f3a"
            ],
            [
             0.8888888888888888,
             "#fdca26"
            ],
            [
             1,
             "#f0f921"
            ]
           ]
          },
          "colorway": [
           "#636efa",
           "#EF553B",
           "#00cc96",
           "#ab63fa",
           "#FFA15A",
           "#19d3f3",
           "#FF6692",
           "#B6E880",
           "#FF97FF",
           "#FECB52"
          ],
          "font": {
           "color": "#2a3f5f"
          },
          "geo": {
           "bgcolor": "white",
           "lakecolor": "white",
           "landcolor": "#E5ECF6",
           "showlakes": true,
           "showland": true,
           "subunitcolor": "white"
          },
          "hoverlabel": {
           "align": "left"
          },
          "hovermode": "closest",
          "mapbox": {
           "style": "light"
          },
          "paper_bgcolor": "white",
          "plot_bgcolor": "#E5ECF6",
          "polar": {
           "angularaxis": {
            "gridcolor": "white",
            "linecolor": "white",
            "ticks": ""
           },
           "bgcolor": "#E5ECF6",
           "radialaxis": {
            "gridcolor": "white",
            "linecolor": "white",
            "ticks": ""
           }
          },
          "scene": {
           "xaxis": {
            "backgroundcolor": "#E5ECF6",
            "gridcolor": "white",
            "gridwidth": 2,
            "linecolor": "white",
            "showbackground": true,
            "ticks": "",
            "zerolinecolor": "white"
           },
           "yaxis": {
            "backgroundcolor": "#E5ECF6",
            "gridcolor": "white",
            "gridwidth": 2,
            "linecolor": "white",
            "showbackground": true,
            "ticks": "",
            "zerolinecolor": "white"
           },
           "zaxis": {
            "backgroundcolor": "#E5ECF6",
            "gridcolor": "white",
            "gridwidth": 2,
            "linecolor": "white",
            "showbackground": true,
            "ticks": "",
            "zerolinecolor": "white"
           }
          },
          "shapedefaults": {
           "line": {
            "color": "#2a3f5f"
           }
          },
          "ternary": {
           "aaxis": {
            "gridcolor": "white",
            "linecolor": "white",
            "ticks": ""
           },
           "baxis": {
            "gridcolor": "white",
            "linecolor": "white",
            "ticks": ""
           },
           "bgcolor": "#E5ECF6",
           "caxis": {
            "gridcolor": "white",
            "linecolor": "white",
            "ticks": ""
           }
          },
          "title": {
           "x": 0.05
          },
          "xaxis": {
           "automargin": true,
           "gridcolor": "white",
           "linecolor": "white",
           "ticks": "",
           "title": {
            "standoff": 15
           },
           "zerolinecolor": "white",
           "zerolinewidth": 2
          },
          "yaxis": {
           "automargin": true,
           "gridcolor": "white",
           "linecolor": "white",
           "ticks": "",
           "title": {
            "standoff": 15
           },
           "zerolinecolor": "white",
           "zerolinewidth": 2
          }
         }
        },
        "xaxis": {
         "anchor": "y",
         "domain": [
          0,
          1
         ],
         "title": {
          "text": "x"
         }
        },
        "yaxis": {
         "anchor": "x",
         "domain": [
          0,
          1
         ],
         "title": {
          "text": "y"
         }
        }
       }
      }
     },
     "metadata": {},
     "output_type": "display_data"
    }
   ],
   "source": [
    "# Graficar los embedddings en 2D\n",
    "import plotly.graph_objects as go\n",
    "import plotly.express as px\n",
    "\n",
    "vecs, labels = reduce_dimensions(w2v_model)\n",
    "\n",
    "MAX_WORDS=200\n",
    "fig = px.scatter(x=vecs[:MAX_WORDS,0], y=vecs[:MAX_WORDS,1], text=labels[:MAX_WORDS])\n",
    "fig.show() # renderer=\"colab\" esto para plotly en colab"
   ]
  },
  {
   "cell_type": "code",
   "execution_count": 25,
   "metadata": {},
   "outputs": [
    {
     "data": {
      "application/vnd.plotly.v1+json": {
       "config": {
        "plotlyServerURL": "https://plot.ly"
       },
       "data": [
        {
         "hovertemplate": "x=%{x}<br>y=%{y}<br>z=%{z}<br>text=%{text}<extra></extra>",
         "legendgroup": "",
         "marker": {
          "color": "#636efa",
          "size": 2,
          "symbol": "circle"
         },
         "mode": "markers+text",
         "name": "",
         "scene": "scene",
         "showlegend": false,
         "text": [
          "you",
          "i",
          "the",
          "to",
          "and",
          "love",
          "a",
          "me",
          "in",
          "all",
          "nah",
          "my",
          "it",
          "know",
          "that",
          "be",
          "on",
          "of",
          "she",
          "is",
          "say",
          "now",
          "oh",
          "your",
          "yeah",
          "get",
          "don't",
          "back",
          "with",
          "let",
          "her",
          "can",
          "it's",
          "do",
          "when",
          "come",
          "i'm",
          "will",
          "he",
          "but",
          "for",
          "so",
          "there",
          "need",
          "like",
          "together",
          "no",
          "i'll",
          "see",
          "we",
          "was",
          "never",
          "down",
          "if",
          "way",
          "want",
          "hey",
          "out",
          "one",
          "got",
          "can't",
          "girl",
          "well",
          "good",
          "go",
          "sun",
          "his",
          "hello",
          "home",
          "they",
          "day",
          "are",
          "ah",
          "right",
          "from",
          "little",
          "at",
          "man",
          "help",
          "here",
          "have",
          "gonna",
          "not",
          "world",
          "what",
          "going",
          "how",
          "please",
          "still",
          "too",
          "just",
          "you're",
          "time",
          "as",
          "make",
          "long",
          "yes",
          "yellow",
          "life",
          "once",
          "sky",
          "been",
          "think",
          "tell",
          "why",
          "only",
          "where",
          "people",
          "she's",
          "eyes",
          "jude",
          "take",
          "submarine",
          "up",
          "hold",
          "goodbye",
          "give",
          "nowhere",
          "sing",
          "look",
          "friends",
          "always",
          "hand",
          "boy",
          "we're",
          "am",
          "away",
          "darling",
          "goo",
          "nothing",
          "should",
          "lonely",
          "could",
          "feel",
          "some",
          "night",
          "comes",
          "had",
          "would",
          "better",
          "head",
          "them",
          "four",
          "buy",
          "more",
          "i've",
          "la",
          "mind",
          "two",
          "this",
          "everything",
          "carry",
          "by",
          "our",
          "sunshine",
          "weight",
          "change",
          "us",
          "lucy",
          "birthday",
          "an",
          "true",
          "you'll",
          "every",
          "pretty",
          "three",
          "diamonds",
          "before",
          "believe",
          "these",
          "i'd",
          "words",
          "mm",
          "work",
          "dear",
          "leave",
          "were",
          "mine",
          "there's",
          "nobody",
          "told",
          "money",
          "bom",
          "said",
          "forever",
          "round",
          "children",
          "'cause",
          "something",
          "about",
          "waiting",
          "standing",
          "who",
          "didn't",
          "try",
          "loves",
          "then",
          "hide",
          "saw",
          "prudence"
         ],
         "type": "scatter3d",
         "x": [
          3.594352960586548,
          -6.800931930541992,
          4.632317066192627,
          21.847543716430664,
          0.7476239204406738,
          12.858535766601562,
          -25.548044204711914,
          4.434900760650635,
          18.961286544799805,
          11.76547908782959,
          -0.858161211013794,
          31.58539581298828,
          -23.997941970825195,
          -24.95860481262207,
          -31.89858055114746,
          -27.50020408630371,
          27.541311264038086,
          -0.7944234013557434,
          12.300239562988281,
          13.562302589416504,
          -17.270275115966797,
          15.06811809539795,
          -5.615671634674072,
          20.178926467895508,
          7.1671600341796875,
          30.36747169494629,
          -23.06903648376465,
          37.96849060058594,
          21.08551025390625,
          -31.70098304748535,
          7.635064601898193,
          -5.7843804359436035,
          -28.31073570251465,
          -9.262246131896973,
          -9.870853424072266,
          28.6669921875,
          -4.632523536682129,
          -19.264135360717773,
          -14.802573204040527,
          -2.021146297454834,
          -36.95432662963867,
          -8.701335906982422,
          39.52015686035156,
          12.615302085876465,
          11.092924118041992,
          18.558002471923828,
          -15.315539360046387,
          -20.585237503051758,
          -1.1642427444458008,
          -17.888933181762695,
          38.659019470214844,
          -18.858680725097656,
          -31.26991081237793,
          0.05352722480893135,
          37.6451301574707,
          18.493526458740234,
          2.53666353225708,
          17.683095932006836,
          -21.29153823852539,
          0.1838669776916504,
          -11.155668258666992,
          -3.0857770442962646,
          -20.56405258178711,
          30.89352798461914,
          34.90237045288086,
          -12.14344596862793,
          13.287435531616211,
          -19.89630126953125,
          33.85633850097656,
          5.480419158935547,
          33.693687438964844,
          -7.262488842010498,
          -13.440122604370117,
          13.833637237548828,
          34.68632507324219,
          37.56281280517578,
          -4.059208393096924,
          3.951663017272949,
          40.968387603759766,
          -14.638935089111328,
          15.630987167358398,
          -35.9412727355957,
          -21.685928344726562,
          21.700355529785156,
          -25.98152732849121,
          21.72259521484375,
          -26.72252655029297,
          5.8167405128479,
          16.801198959350586,
          -39.66606521606445,
          -5.514273643493652,
          -27.844345092773438,
          -41.14716720581055,
          -15.27884292602539,
          -16.134536743164062,
          -40.536014556884766,
          11.896820068359375,
          -25.591859817504883,
          22.13482093811035,
          40.82221984863281,
          10.82477855682373,
          -14.982148170471191,
          -16.282094955444336,
          2.6264777183532715,
          -24.0670108795166,
          -30.204566955566406,
          33.680416107177734,
          -0.026092834770679474,
          19.01091194152832,
          19.138364791870117,
          3.6488265991210938,
          -26.890731811523438,
          -28.565982818603516,
          22.981353759765625,
          20.995725631713867,
          -21.848033905029297,
          -3.0023679733276367,
          10.152143478393555,
          -12.826937675476074,
          -8.485894203186035,
          35.6083869934082,
          -30.96921730041504,
          23.05767250061035,
          -29.239225387573242,
          27.93250274658203,
          10.319206237792969,
          0.017008179798722267,
          -7.672197341918945,
          -22.584810256958008,
          6.3158369064331055,
          -31.16952896118164,
          -2.2810182571411133,
          -23.426239013671875,
          -17.20867919921875,
          11.467345237731934,
          -10.687947273254395,
          -9.948979377746582,
          26.105546951293945,
          -9.837085723876953,
          -13.895891189575195,
          15.505904197692871,
          32.00895309448242,
          -16.208904266357422,
          -6.109871864318848,
          -17.735429763793945,
          7.226505279541016,
          11.746625900268555,
          29.905982971191406,
          -18.858137130737305,
          -31.815284729003906,
          -1.0370367765426636,
          -35.3697624206543,
          33.27470397949219,
          40.31562805175781,
          31.772197723388672,
          -38.490848541259766,
          -33.46139144897461,
          -15.01541805267334,
          13.732144355773926,
          -23.377338409423828,
          -14.49592113494873,
          -26.484397888183594,
          -18.35442352294922,
          -4.705244064331055,
          -2.196387767791748,
          -18.677101135253906,
          16.5996150970459,
          -34.977630615234375,
          -3.930007219314575,
          17.680770874023438,
          14.8942289352417,
          -24.93806266784668,
          20.086957931518555,
          16.03619384765625,
          16.3946533203125,
          4.5429840087890625,
          -23.381086349487305,
          -17.627849578857422,
          -10.088292121887207,
          -1.5658949613571167,
          -0.9133236408233643,
          -8.166772842407227,
          -1.1604206562042236,
          -10.542027473449707,
          23.389244079589844,
          17.180561065673828,
          36.41453170776367,
          -4.183525562286377,
          -11.136173248291016,
          13.446772575378418,
          -36.55767822265625,
          31.917551040649414,
          -10.564268112182617,
          5.26226282119751,
          29.129249572753906,
          9.542715072631836,
          43.73861312866211,
          -2.927090883255005,
          5.1057257652282715,
          17.702463150024414
         ],
         "y": [
          4.027515888214111,
          -0.039224423468112946,
          32.329586029052734,
          -1.7744630575180054,
          -13.726872444152832,
          2.509695291519165,
          1.3331732749938965,
          -14.99506664276123,
          29.248716354370117,
          -36.21529006958008,
          45.56378936767578,
          19.03031349182129,
          29.859874725341797,
          -0.9959323406219482,
          -10.788143157958984,
          24.520366668701172,
          5.380232334136963,
          31.749187469482422,
          -29.652111053466797,
          32.135868072509766,
          3.874089002609253,
          -33.09074020385742,
          -16.63503646850586,
          8.716601371765137,
          -34.894859313964844,
          -15.921985626220703,
          5.476534843444824,
          -16.41810417175293,
          38.06116485595703,
          18.702253341674805,
          4.012315273284912,
          18.149494171142578,
          -9.302799224853516,
          -12.450724601745605,
          -29.964431762695312,
          6.854827404022217,
          -39.02499008178711,
          23.111156463623047,
          -17.786762237548828,
          3.553110122680664,
          -10.88266372680664,
          -8.856998443603516,
          7.409828186035156,
          -4.402687072753906,
          -22.016700744628906,
          -33.717403411865234,
          -17.712657928466797,
          14.928473472595215,
          -1.1747769117355347,
          0.6376025080680847,
          2.074922561645508,
          -14.4422025680542,
          13.442513465881348,
          -8.331567764282227,
          -8.70468521118164,
          3.3596010208129883,
          47.13088607788086,
          9.073407173156738,
          -28.02359962463379,
          21.52607536315918,
          19.4998779296875,
          31.65988540649414,
          4.263681411743164,
          -23.858291625976562,
          -27.494728088378906,
          39.30846405029297,
          27.864376068115234,
          0.20874466001987457,
          -17.604541778564453,
          28.550132751464844,
          -19.317331314086914,
          -25.070232391357422,
          24.02962303161621,
          -37.63935470581055,
          14.702547073364258,
          8.647814750671387,
          21.68935203552246,
          -0.05108075216412544,
          12.398371696472168,
          36.987274169921875,
          -6.698756217956543,
          -20.265113830566406,
          -22.465837478637695,
          27.778884887695312,
          -7.042418003082275,
          -22.120676040649414,
          1.4654144048690796,
          -27.10357666015625,
          -10.725946426391602,
          -4.378774642944336,
          22.986799240112305,
          -23.282197952270508,
          -6.85259485244751,
          -23.549251556396484,
          21.2509822845459,
          -13.508681297302246,
          -39.63587951660156,
          -1.343941569328308,
          14.187643051147461,
          -5.132452487945557,
          41.11680603027344,
          -11.935541152954102,
          -5.419299125671387,
          -6.923726558685303,
          4.1371283531188965,
          -20.490150451660156,
          -8.024396896362305,
          30.2753963470459,
          -13.47835922241211,
          25.36740493774414,
          42.501869201660156,
          11.26224422454834,
          -1.5215444564819336,
          15.918768882751465,
          9.692766189575195,
          3.910764217376709,
          9.578057289123535,
          21.60157585144043,
          29.909061431884766,
          20.514366149902344,
          13.299504280090332,
          15.833975791931152,
          7.320922374725342,
          -19.251407623291016,
          4.8320183753967285,
          -40.22394561767578,
          8.78699016571045,
          -27.3071346282959,
          -27.03660011291504,
          6.392533302307129,
          4.6935343742370605,
          37.62794876098633,
          -12.102651596069336,
          7.78205680847168,
          -6.845142364501953,
          -3.7417540550231934,
          38.96897888183594,
          -9.058741569519043,
          12.66154670715332,
          26.20813751220703,
          23.496381759643555,
          22.52817726135254,
          -39.48117446899414,
          19.031774520874023,
          27.116905212402344,
          15.715609550476074,
          -17.44040298461914,
          17.170970916748047,
          -33.43312072753906,
          -16.341323852539062,
          15.592660903930664,
          -22.487545013427734,
          0.5463238954544067,
          -8.917013168334961,
          -23.82101058959961,
          -18.582523345947266,
          -29.007787704467773,
          -9.313292503356934,
          38.34003448486328,
          -5.4972004890441895,
          23.170000076293945,
          17.235824584960938,
          0.4307524859905243,
          -14.277591705322266,
          -23.352663040161133,
          -35.691524505615234,
          39.479373931884766,
          -7.143627166748047,
          -7.73543643951416,
          11.290210723876953,
          5.272781848907471,
          22.174945831298828,
          -15.58155632019043,
          11.36353588104248,
          -1.5604286193847656,
          -0.67715984582901,
          -17.434106826782227,
          0.8348940014839172,
          -23.685970306396484,
          -15.136507987976074,
          -4.148924350738525,
          23.833236694335938,
          -33.270355224609375,
          -22.53371238708496,
          -31.19072914123535,
          22.232173919677734,
          -26.400339126586914,
          -33.299861907958984,
          -13.852256774902344,
          -7.331268787384033,
          -11.799138069152832,
          31.39432716369629,
          17.223318099975586,
          -6.66054105758667,
          -7.3899030685424805,
          -31.860822677612305,
          4.2417216300964355,
          16.062488555908203,
          -2.5846691131591797,
          -3.614577293395996
         ],
         "z": [
          -41.6019401550293,
          -38.869815826416016,
          13.686323165893555,
          -17.074321746826172,
          -3.730534553527832,
          -38.48503112792969,
          5.711544513702393,
          -36.468505859375,
          12.752911567687988,
          25.50934410095215,
          -3.8310775756835938,
          -5.298320770263672,
          -1.9618748426437378,
          -33.13117599487305,
          -5.356425762176514,
          -10.65470027923584,
          31.153446197509766,
          4.600393295288086,
          -11.307843208312988,
          -4.116308212280273,
          -40.735477447509766,
          25.827392578125,
          -34.82527542114258,
          -24.87200355529785,
          -20.601552963256836,
          -16.64299774169922,
          -31.161300659179688,
          -15.001838684082031,
          14.246001243591309,
          -3.545576333999634,
          -16.906482696533203,
          -18.901203155517578,
          -18.93138885498047,
          -43.473548889160156,
          -17.74789810180664,
          37.028751373291016,
          -6.856653690338135,
          -26.4603214263916,
          -6.537844181060791,
          -29.52753448486328,
          8.107834815979004,
          -28.245140075683594,
          -16.038957595825195,
          -41.967220306396484,
          -25.364091873168945,
          19.54172134399414,
          -32.386131286621094,
          -17.38654327392578,
          -50.7641487121582,
          23.5115966796875,
          -15.267419815063477,
          -38.670955657958984,
          2.8865320682525635,
          -24.19144058227539,
          -7.834800720214844,
          -28.82950210571289,
          -9.13664722442627,
          36.15361404418945,
          8.05447006225586,
          -29.760377883911133,
          -39.91336441040039,
          -6.136760711669922,
          -5.070940017700195,
          14.743072509765625,
          4.765726089477539,
          8.150862693786621,
          25.656314849853516,
          -47.553401947021484,
          -9.91447925567627,
          -19.581470489501953,
          20.079885482788086,
          9.454972267150879,
          34.0339241027832,
          18.226652145385742,
          8.942197799682617,
          10.347427368164062,
          36.869876861572266,
          29.40163803100586,
          3.51324725151062,
          12.564558029174805,
          22.728490829467773,
          -10.955622673034668,
          -21.09976577758789,
          -14.564884185791016,
          -35.490081787109375,
          5.285325527191162,
          -12.661066055297852,
          -29.966049194335938,
          -35.47850799560547,
          -7.497866630554199,
          -29.42330551147461,
          -5.553866386413574,
          -0.5531379580497742,
          0.16389413177967072,
          -9.742369651794434,
          1.4855892658233643,
          0.47336190938949585,
          32.32469940185547,
          4.508899211883545,
          -19.353437423706055,
          10.216833114624023,
          27.70707893371582,
          -37.15046310424805,
          -43.41094970703125,
          -38.89720916748047,
          9.644975662231445,
          -20.990251541137695,
          34.1608772277832,
          -22.256025314331055,
          17.642637252807617,
          -7.747285842895508,
          -1.570448398590088,
          28.786890029907227,
          29.93247413635254,
          -32.99951934814453,
          -45.381256103515625,
          -37.137794494628906,
          29.387508392333984,
          -20.888492584228516,
          35.917823791503906,
          3.3761069774627686,
          -15.810054779052734,
          -28.15143585205078,
          -7.539361000061035,
          21.456539154052734,
          6.212310791015625,
          -14.300023078918457,
          32.90515899658203,
          27.64122772216797,
          -33.80538558959961,
          -23.98417854309082,
          34.094932556152344,
          -27.606489181518555,
          -22.572288513183594,
          16.612567901611328,
          17.08286476135254,
          12.670441627502441,
          18.36702537536621,
          -16.946144104003906,
          -10.077986717224121,
          21.399686813354492,
          20.112810134887695,
          5.360718727111816,
          -42.063697814941406,
          21.938941955566406,
          -22.743858337402344,
          27.505168914794922,
          2.1214377880096436,
          5.323892593383789,
          13.746203422546387,
          -23.17517852783203,
          -3.317967414855957,
          9.507255554199219,
          -2.5581088066101074,
          19.809289932250977,
          -2.068251132965088,
          -12.249387741088867,
          13.160552978515625,
          14.99193000793457,
          -19.845355987548828,
          2.31027889251709,
          -13.55041790008545,
          -26.220306396484375,
          15.2091703414917,
          33.44982147216797,
          9.98354434967041,
          11.267592430114746,
          -0.14324988424777985,
          -33.93452835083008,
          12.14065170288086,
          -14.105207443237305,
          5.3667120933532715,
          14.57160472869873,
          40.097145080566406,
          39.17100143432617,
          -23.760684967041016,
          8.519888877868652,
          11.415122985839844,
          -28.758441925048828,
          4.972240447998047,
          -37.38821029663086,
          -40.0917854309082,
          18.2838191986084,
          4.645516395568848,
          -5.506350517272949,
          -11.891535758972168,
          10.9931640625,
          -9.22657299041748,
          1.6146477460861206,
          -15.890989303588867,
          16.321401596069336,
          2.739226818084717,
          16.027061462402344,
          -37.498626708984375,
          5.558924198150635,
          -17.481706619262695,
          -8.324259757995605,
          -33.60764694213867,
          -14.986950874328613,
          35.20578384399414
         ]
        }
       ],
       "layout": {
        "legend": {
         "tracegroupgap": 0
        },
        "margin": {
         "t": 60
        },
        "scene": {
         "domain": {
          "x": [
           0,
           1
          ],
          "y": [
           0,
           1
          ]
         },
         "xaxis": {
          "title": {
           "text": "x"
          }
         },
         "yaxis": {
          "title": {
           "text": "y"
          }
         },
         "zaxis": {
          "title": {
           "text": "z"
          }
         }
        },
        "template": {
         "data": {
          "bar": [
           {
            "error_x": {
             "color": "#2a3f5f"
            },
            "error_y": {
             "color": "#2a3f5f"
            },
            "marker": {
             "line": {
              "color": "#E5ECF6",
              "width": 0.5
             },
             "pattern": {
              "fillmode": "overlay",
              "size": 10,
              "solidity": 0.2
             }
            },
            "type": "bar"
           }
          ],
          "barpolar": [
           {
            "marker": {
             "line": {
              "color": "#E5ECF6",
              "width": 0.5
             },
             "pattern": {
              "fillmode": "overlay",
              "size": 10,
              "solidity": 0.2
             }
            },
            "type": "barpolar"
           }
          ],
          "carpet": [
           {
            "aaxis": {
             "endlinecolor": "#2a3f5f",
             "gridcolor": "white",
             "linecolor": "white",
             "minorgridcolor": "white",
             "startlinecolor": "#2a3f5f"
            },
            "baxis": {
             "endlinecolor": "#2a3f5f",
             "gridcolor": "white",
             "linecolor": "white",
             "minorgridcolor": "white",
             "startlinecolor": "#2a3f5f"
            },
            "type": "carpet"
           }
          ],
          "choropleth": [
           {
            "colorbar": {
             "outlinewidth": 0,
             "ticks": ""
            },
            "type": "choropleth"
           }
          ],
          "contour": [
           {
            "colorbar": {
             "outlinewidth": 0,
             "ticks": ""
            },
            "colorscale": [
             [
              0,
              "#0d0887"
             ],
             [
              0.1111111111111111,
              "#46039f"
             ],
             [
              0.2222222222222222,
              "#7201a8"
             ],
             [
              0.3333333333333333,
              "#9c179e"
             ],
             [
              0.4444444444444444,
              "#bd3786"
             ],
             [
              0.5555555555555556,
              "#d8576b"
             ],
             [
              0.6666666666666666,
              "#ed7953"
             ],
             [
              0.7777777777777778,
              "#fb9f3a"
             ],
             [
              0.8888888888888888,
              "#fdca26"
             ],
             [
              1,
              "#f0f921"
             ]
            ],
            "type": "contour"
           }
          ],
          "contourcarpet": [
           {
            "colorbar": {
             "outlinewidth": 0,
             "ticks": ""
            },
            "type": "contourcarpet"
           }
          ],
          "heatmap": [
           {
            "colorbar": {
             "outlinewidth": 0,
             "ticks": ""
            },
            "colorscale": [
             [
              0,
              "#0d0887"
             ],
             [
              0.1111111111111111,
              "#46039f"
             ],
             [
              0.2222222222222222,
              "#7201a8"
             ],
             [
              0.3333333333333333,
              "#9c179e"
             ],
             [
              0.4444444444444444,
              "#bd3786"
             ],
             [
              0.5555555555555556,
              "#d8576b"
             ],
             [
              0.6666666666666666,
              "#ed7953"
             ],
             [
              0.7777777777777778,
              "#fb9f3a"
             ],
             [
              0.8888888888888888,
              "#fdca26"
             ],
             [
              1,
              "#f0f921"
             ]
            ],
            "type": "heatmap"
           }
          ],
          "heatmapgl": [
           {
            "colorbar": {
             "outlinewidth": 0,
             "ticks": ""
            },
            "colorscale": [
             [
              0,
              "#0d0887"
             ],
             [
              0.1111111111111111,
              "#46039f"
             ],
             [
              0.2222222222222222,
              "#7201a8"
             ],
             [
              0.3333333333333333,
              "#9c179e"
             ],
             [
              0.4444444444444444,
              "#bd3786"
             ],
             [
              0.5555555555555556,
              "#d8576b"
             ],
             [
              0.6666666666666666,
              "#ed7953"
             ],
             [
              0.7777777777777778,
              "#fb9f3a"
             ],
             [
              0.8888888888888888,
              "#fdca26"
             ],
             [
              1,
              "#f0f921"
             ]
            ],
            "type": "heatmapgl"
           }
          ],
          "histogram": [
           {
            "marker": {
             "pattern": {
              "fillmode": "overlay",
              "size": 10,
              "solidity": 0.2
             }
            },
            "type": "histogram"
           }
          ],
          "histogram2d": [
           {
            "colorbar": {
             "outlinewidth": 0,
             "ticks": ""
            },
            "colorscale": [
             [
              0,
              "#0d0887"
             ],
             [
              0.1111111111111111,
              "#46039f"
             ],
             [
              0.2222222222222222,
              "#7201a8"
             ],
             [
              0.3333333333333333,
              "#9c179e"
             ],
             [
              0.4444444444444444,
              "#bd3786"
             ],
             [
              0.5555555555555556,
              "#d8576b"
             ],
             [
              0.6666666666666666,
              "#ed7953"
             ],
             [
              0.7777777777777778,
              "#fb9f3a"
             ],
             [
              0.8888888888888888,
              "#fdca26"
             ],
             [
              1,
              "#f0f921"
             ]
            ],
            "type": "histogram2d"
           }
          ],
          "histogram2dcontour": [
           {
            "colorbar": {
             "outlinewidth": 0,
             "ticks": ""
            },
            "colorscale": [
             [
              0,
              "#0d0887"
             ],
             [
              0.1111111111111111,
              "#46039f"
             ],
             [
              0.2222222222222222,
              "#7201a8"
             ],
             [
              0.3333333333333333,
              "#9c179e"
             ],
             [
              0.4444444444444444,
              "#bd3786"
             ],
             [
              0.5555555555555556,
              "#d8576b"
             ],
             [
              0.6666666666666666,
              "#ed7953"
             ],
             [
              0.7777777777777778,
              "#fb9f3a"
             ],
             [
              0.8888888888888888,
              "#fdca26"
             ],
             [
              1,
              "#f0f921"
             ]
            ],
            "type": "histogram2dcontour"
           }
          ],
          "mesh3d": [
           {
            "colorbar": {
             "outlinewidth": 0,
             "ticks": ""
            },
            "type": "mesh3d"
           }
          ],
          "parcoords": [
           {
            "line": {
             "colorbar": {
              "outlinewidth": 0,
              "ticks": ""
             }
            },
            "type": "parcoords"
           }
          ],
          "pie": [
           {
            "automargin": true,
            "type": "pie"
           }
          ],
          "scatter": [
           {
            "fillpattern": {
             "fillmode": "overlay",
             "size": 10,
             "solidity": 0.2
            },
            "type": "scatter"
           }
          ],
          "scatter3d": [
           {
            "line": {
             "colorbar": {
              "outlinewidth": 0,
              "ticks": ""
             }
            },
            "marker": {
             "colorbar": {
              "outlinewidth": 0,
              "ticks": ""
             }
            },
            "type": "scatter3d"
           }
          ],
          "scattercarpet": [
           {
            "marker": {
             "colorbar": {
              "outlinewidth": 0,
              "ticks": ""
             }
            },
            "type": "scattercarpet"
           }
          ],
          "scattergeo": [
           {
            "marker": {
             "colorbar": {
              "outlinewidth": 0,
              "ticks": ""
             }
            },
            "type": "scattergeo"
           }
          ],
          "scattergl": [
           {
            "marker": {
             "colorbar": {
              "outlinewidth": 0,
              "ticks": ""
             }
            },
            "type": "scattergl"
           }
          ],
          "scattermapbox": [
           {
            "marker": {
             "colorbar": {
              "outlinewidth": 0,
              "ticks": ""
             }
            },
            "type": "scattermapbox"
           }
          ],
          "scatterpolar": [
           {
            "marker": {
             "colorbar": {
              "outlinewidth": 0,
              "ticks": ""
             }
            },
            "type": "scatterpolar"
           }
          ],
          "scatterpolargl": [
           {
            "marker": {
             "colorbar": {
              "outlinewidth": 0,
              "ticks": ""
             }
            },
            "type": "scatterpolargl"
           }
          ],
          "scatterternary": [
           {
            "marker": {
             "colorbar": {
              "outlinewidth": 0,
              "ticks": ""
             }
            },
            "type": "scatterternary"
           }
          ],
          "surface": [
           {
            "colorbar": {
             "outlinewidth": 0,
             "ticks": ""
            },
            "colorscale": [
             [
              0,
              "#0d0887"
             ],
             [
              0.1111111111111111,
              "#46039f"
             ],
             [
              0.2222222222222222,
              "#7201a8"
             ],
             [
              0.3333333333333333,
              "#9c179e"
             ],
             [
              0.4444444444444444,
              "#bd3786"
             ],
             [
              0.5555555555555556,
              "#d8576b"
             ],
             [
              0.6666666666666666,
              "#ed7953"
             ],
             [
              0.7777777777777778,
              "#fb9f3a"
             ],
             [
              0.8888888888888888,
              "#fdca26"
             ],
             [
              1,
              "#f0f921"
             ]
            ],
            "type": "surface"
           }
          ],
          "table": [
           {
            "cells": {
             "fill": {
              "color": "#EBF0F8"
             },
             "line": {
              "color": "white"
             }
            },
            "header": {
             "fill": {
              "color": "#C8D4E3"
             },
             "line": {
              "color": "white"
             }
            },
            "type": "table"
           }
          ]
         },
         "layout": {
          "annotationdefaults": {
           "arrowcolor": "#2a3f5f",
           "arrowhead": 0,
           "arrowwidth": 1
          },
          "autotypenumbers": "strict",
          "coloraxis": {
           "colorbar": {
            "outlinewidth": 0,
            "ticks": ""
           }
          },
          "colorscale": {
           "diverging": [
            [
             0,
             "#8e0152"
            ],
            [
             0.1,
             "#c51b7d"
            ],
            [
             0.2,
             "#de77ae"
            ],
            [
             0.3,
             "#f1b6da"
            ],
            [
             0.4,
             "#fde0ef"
            ],
            [
             0.5,
             "#f7f7f7"
            ],
            [
             0.6,
             "#e6f5d0"
            ],
            [
             0.7,
             "#b8e186"
            ],
            [
             0.8,
             "#7fbc41"
            ],
            [
             0.9,
             "#4d9221"
            ],
            [
             1,
             "#276419"
            ]
           ],
           "sequential": [
            [
             0,
             "#0d0887"
            ],
            [
             0.1111111111111111,
             "#46039f"
            ],
            [
             0.2222222222222222,
             "#7201a8"
            ],
            [
             0.3333333333333333,
             "#9c179e"
            ],
            [
             0.4444444444444444,
             "#bd3786"
            ],
            [
             0.5555555555555556,
             "#d8576b"
            ],
            [
             0.6666666666666666,
             "#ed7953"
            ],
            [
             0.7777777777777778,
             "#fb9f3a"
            ],
            [
             0.8888888888888888,
             "#fdca26"
            ],
            [
             1,
             "#f0f921"
            ]
           ],
           "sequentialminus": [
            [
             0,
             "#0d0887"
            ],
            [
             0.1111111111111111,
             "#46039f"
            ],
            [
             0.2222222222222222,
             "#7201a8"
            ],
            [
             0.3333333333333333,
             "#9c179e"
            ],
            [
             0.4444444444444444,
             "#bd3786"
            ],
            [
             0.5555555555555556,
             "#d8576b"
            ],
            [
             0.6666666666666666,
             "#ed7953"
            ],
            [
             0.7777777777777778,
             "#fb9f3a"
            ],
            [
             0.8888888888888888,
             "#fdca26"
            ],
            [
             1,
             "#f0f921"
            ]
           ]
          },
          "colorway": [
           "#636efa",
           "#EF553B",
           "#00cc96",
           "#ab63fa",
           "#FFA15A",
           "#19d3f3",
           "#FF6692",
           "#B6E880",
           "#FF97FF",
           "#FECB52"
          ],
          "font": {
           "color": "#2a3f5f"
          },
          "geo": {
           "bgcolor": "white",
           "lakecolor": "white",
           "landcolor": "#E5ECF6",
           "showlakes": true,
           "showland": true,
           "subunitcolor": "white"
          },
          "hoverlabel": {
           "align": "left"
          },
          "hovermode": "closest",
          "mapbox": {
           "style": "light"
          },
          "paper_bgcolor": "white",
          "plot_bgcolor": "#E5ECF6",
          "polar": {
           "angularaxis": {
            "gridcolor": "white",
            "linecolor": "white",
            "ticks": ""
           },
           "bgcolor": "#E5ECF6",
           "radialaxis": {
            "gridcolor": "white",
            "linecolor": "white",
            "ticks": ""
           }
          },
          "scene": {
           "xaxis": {
            "backgroundcolor": "#E5ECF6",
            "gridcolor": "white",
            "gridwidth": 2,
            "linecolor": "white",
            "showbackground": true,
            "ticks": "",
            "zerolinecolor": "white"
           },
           "yaxis": {
            "backgroundcolor": "#E5ECF6",
            "gridcolor": "white",
            "gridwidth": 2,
            "linecolor": "white",
            "showbackground": true,
            "ticks": "",
            "zerolinecolor": "white"
           },
           "zaxis": {
            "backgroundcolor": "#E5ECF6",
            "gridcolor": "white",
            "gridwidth": 2,
            "linecolor": "white",
            "showbackground": true,
            "ticks": "",
            "zerolinecolor": "white"
           }
          },
          "shapedefaults": {
           "line": {
            "color": "#2a3f5f"
           }
          },
          "ternary": {
           "aaxis": {
            "gridcolor": "white",
            "linecolor": "white",
            "ticks": ""
           },
           "baxis": {
            "gridcolor": "white",
            "linecolor": "white",
            "ticks": ""
           },
           "bgcolor": "#E5ECF6",
           "caxis": {
            "gridcolor": "white",
            "linecolor": "white",
            "ticks": ""
           }
          },
          "title": {
           "x": 0.05
          },
          "xaxis": {
           "automargin": true,
           "gridcolor": "white",
           "linecolor": "white",
           "ticks": "",
           "title": {
            "standoff": 15
           },
           "zerolinecolor": "white",
           "zerolinewidth": 2
          },
          "yaxis": {
           "automargin": true,
           "gridcolor": "white",
           "linecolor": "white",
           "ticks": "",
           "title": {
            "standoff": 15
           },
           "zerolinecolor": "white",
           "zerolinewidth": 2
          }
         }
        }
       }
      }
     },
     "metadata": {},
     "output_type": "display_data"
    }
   ],
   "source": [
    "# Graficar los embedddings en 3D\n",
    "\n",
    "vecs, labels = reduce_dimensions(w2v_model,3)\n",
    "\n",
    "fig = px.scatter_3d(x=vecs[:MAX_WORDS,0], y=vecs[:MAX_WORDS,1], z=vecs[:MAX_WORDS,2],text=labels[:MAX_WORDS])\n",
    "fig.update_traces(marker_size = 2)\n",
    "fig.show() # renderer=\"colab\" esto para plotly en colab"
   ]
  },
  {
   "cell_type": "code",
   "execution_count": null,
   "metadata": {},
   "outputs": [],
   "source": [
    "# También se pueden guardar los vectores y labels como tsv para graficar en\n",
    "# http://projector.tensorflow.org/\n",
    "\n",
    "\n",
    "vectors = np.asarray(w2v_model.wv.vectors)\n",
    "labels = list(w2v_model.wv.index_to_key)\n",
    "\n",
    "np.savetxt(\"vectors.tsv\", vectors, delimiter=\"\\t\")\n",
    "\n",
    "with open(\"labels.tsv\", \"w\") as fp:\n",
    "    for item in labels:\n",
    "        fp.write(\"%s\\n\" % item)"
   ]
  },
  {
   "cell_type": "markdown",
   "metadata": {
    "id": "yMM_SHSaZ9N-"
   },
   "source": [
    "### Alumno"
   ]
  },
  {
   "cell_type": "markdown",
   "metadata": {
    "id": "WivQZ3ZCZ9N_"
   },
   "source": [
    "- Crear sus propios vectores con Gensim basado en lo visto en clase con otro dataset.\n",
    "- Probar términos de interés y explicar similitudes en el espacio de embeddings (sacar conclusiones entre palabras similitudes y diferencias).\n",
    "- Graficarlos.\n",
    "- Obtener conclusiones."
   ]
  }
 ],
 "metadata": {
  "colab": {
   "collapsed_sections": [],
   "provenance": []
  },
  "kernelspec": {
   "display_name": "CEIA_pln-ttAQ7Bhm",
   "language": "python",
   "name": "python3"
  },
  "language_info": {
   "codemirror_mode": {
    "name": "ipython",
    "version": 3
   },
   "file_extension": ".py",
   "mimetype": "text/x-python",
   "name": "python",
   "nbconvert_exporter": "python",
   "pygments_lexer": "ipython3",
   "version": "3.11.9"
  }
 },
 "nbformat": 4,
 "nbformat_minor": 4
}
